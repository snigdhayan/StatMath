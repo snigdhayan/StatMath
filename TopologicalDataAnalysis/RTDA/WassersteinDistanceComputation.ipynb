{
 "cells": [
  {
   "cell_type": "code",
   "execution_count": 1,
   "id": "834d2c07",
   "metadata": {},
   "outputs": [],
   "source": [
    "library(TDA)\n",
    "library(TDAstats)"
   ]
  },
  {
   "cell_type": "code",
   "execution_count": 2,
   "id": "109964c5",
   "metadata": {},
   "outputs": [],
   "source": [
    "# read data - ensure the availability of the dataset in the current working directory\n",
    "# setwd('target working directory')\n",
    "data <- read.csv(file = 'breast_cancer_dataset.csv', header = TRUE)\n",
    "data <- data[names(data)!='label']"
   ]
  },
  {
   "cell_type": "code",
   "execution_count": 3,
   "id": "6ac2155c",
   "metadata": {},
   "outputs": [],
   "source": [
    "# configuration parameters\n",
    "n_samples = 5\n",
    "wasserstein_exp = 1\n",
    "wasserstein_dim = 0"
   ]
  },
  {
   "cell_type": "code",
   "execution_count": 4,
   "id": "37400d73",
   "metadata": {},
   "outputs": [],
   "source": [
    "# function to draw samples and compute persistent homologies\n",
    "compute_homology <- function(n_samples){\n",
    "    homology_list <- list()\n",
    "    for (i in 1:n_samples) {\n",
    "      my_data <- data\n",
    "      data_sample <- my_data[sample(nrow(my_data), sample_size, replace = FALSE), ]\n",
    "      homology_list[[i]] <- calculate_homology(data_sample)\n",
    "    }\n",
    "    return(homology_list)\n",
    "}"
   ]
  },
  {
   "cell_type": "code",
   "execution_count": 5,
   "id": "a7719222",
   "metadata": {},
   "outputs": [],
   "source": [
    "# function to compute wasserstein distances between persistent homologies of samples\n",
    "compute_distance <- function(n_samples) {\n",
    "    my_list <- compute_homology(n_samples)\n",
    "    my_matrix <- matrix(nrow = n_samples, ncol = n_samples)\n",
    "    for (row in 1:nrow(my_matrix)) {\n",
    "      for (col in row:ncol(my_matrix)) {\n",
    "        my_matrix[row,col] <- wasserstein(my_list[[row]],my_list[[col]], \n",
    "                                                p = wasserstein_exp, \n",
    "                                                dimension = wasserstein_dim)\n",
    "        \n",
    "      }\n",
    "    }\n",
    "    return(my_matrix)\n",
    "}"
   ]
  },
  {
   "cell_type": "code",
   "execution_count": 6,
   "id": "00dfdcad",
   "metadata": {},
   "outputs": [
    {
     "data": {
      "text/html": [
       "<table class=\"dataframe\">\n",
       "<caption>A matrix: 5 × 5 of type dbl</caption>\n",
       "<tbody>\n",
       "\t<tr><td> 0</td><td>236.8261</td><td>244.2818</td><td>433.2164</td><td>309.9561</td></tr>\n",
       "\t<tr><td>NA</td><td>  0.0000</td><td>305.5811</td><td>584.1658</td><td>319.1143</td></tr>\n",
       "\t<tr><td>NA</td><td>      NA</td><td>  0.0000</td><td>553.9717</td><td>424.4586</td></tr>\n",
       "\t<tr><td>NA</td><td>      NA</td><td>      NA</td><td>  0.0000</td><td>493.7156</td></tr>\n",
       "\t<tr><td>NA</td><td>      NA</td><td>      NA</td><td>      NA</td><td>  0.0000</td></tr>\n",
       "</tbody>\n",
       "</table>\n"
      ],
      "text/latex": [
       "A matrix: 5 × 5 of type dbl\n",
       "\\begin{tabular}{lllll}\n",
       "\t  0 & 236.8261 & 244.2818 & 433.2164 & 309.9561\\\\\n",
       "\t NA &   0.0000 & 305.5811 & 584.1658 & 319.1143\\\\\n",
       "\t NA &       NA &   0.0000 & 553.9717 & 424.4586\\\\\n",
       "\t NA &       NA &       NA &   0.0000 & 493.7156\\\\\n",
       "\t NA &       NA &       NA &       NA &   0.0000\\\\\n",
       "\\end{tabular}\n"
      ],
      "text/markdown": [
       "\n",
       "A matrix: 5 × 5 of type dbl\n",
       "\n",
       "|  0 | 236.8261 | 244.2818 | 433.2164 | 309.9561 |\n",
       "| NA |   0.0000 | 305.5811 | 584.1658 | 319.1143 |\n",
       "| NA |       NA |   0.0000 | 553.9717 | 424.4586 |\n",
       "| NA |       NA |       NA |   0.0000 | 493.7156 |\n",
       "| NA |       NA |       NA |       NA |   0.0000 |\n",
       "\n"
      ],
      "text/plain": [
       "     [,1] [,2]     [,3]     [,4]     [,5]    \n",
       "[1,]  0   236.8261 244.2818 433.2164 309.9561\n",
       "[2,] NA     0.0000 305.5811 584.1658 319.1143\n",
       "[3,] NA         NA   0.0000 553.9717 424.4586\n",
       "[4,] NA         NA       NA   0.0000 493.7156\n",
       "[5,] NA         NA       NA       NA   0.0000"
      ]
     },
     "metadata": {},
     "output_type": "display_data"
    }
   ],
   "source": [
    "# print wasserstein distances as a matrix - upper triangular matrix\n",
    "sample_size = 550 # select 550 data points or equivalently remove approx. 20 data points simulating \"small\" perturbation\n",
    "distance_matrix <- compute_distance(n_samples)\n",
    "distance_matrix # cell (i,j) denotes the wasserstein distance between sample i and sample j"
   ]
  }
 ],
 "metadata": {
  "kernelspec": {
   "display_name": "R",
   "language": "R",
   "name": "ir"
  },
  "language_info": {
   "codemirror_mode": "r",
   "file_extension": ".r",
   "mimetype": "text/x-r-source",
   "name": "R",
   "pygments_lexer": "r",
   "version": "4.1.3"
  }
 },
 "nbformat": 4,
 "nbformat_minor": 5
}
