{
 "cells": [
  {
   "cell_type": "code",
   "execution_count": 1,
   "id": "scheduled-equipment",
   "metadata": {},
   "outputs": [],
   "source": [
    "import pandas as pd\n",
    "from sklearn import cluster\n",
    "import kmapper as km\n",
    "from kmapper import jupyter # Creates custom CSS full-size Jupyter screen"
   ]
  },
  {
   "cell_type": "code",
   "execution_count": 2,
   "id": "official-chest",
   "metadata": {},
   "outputs": [],
   "source": [
    "# Read and prepare data\n",
    "df = pd.read_csv('./breast_cancer_dataset.csv')\n",
    "data, labels = df.drop(columns='label').values, df['label']"
   ]
  },
  {
   "cell_type": "code",
   "execution_count": 3,
   "id": "mental-timer",
   "metadata": {},
   "outputs": [
    {
     "name": "stdout",
     "output_type": "stream",
     "text": [
      "KeplerMapper(verbose=1)\n"
     ]
    }
   ],
   "source": [
    "# Initialize\n",
    "mapper = km.KeplerMapper(verbose=1)"
   ]
  },
  {
   "cell_type": "code",
   "execution_count": 4,
   "id": "heavy-fancy",
   "metadata": {},
   "outputs": [
    {
     "name": "stdout",
     "output_type": "stream",
     "text": [
      "..Composing projection pipeline of length 1:\n",
      "\tProjections: [0, 1]\n",
      "\tDistance matrices: False\n",
      "\tScalers: MinMaxScaler()\n",
      "..Projecting on data shaped (569, 30)\n",
      "\n",
      "..Projecting data using: [0, 1]\n",
      "\n",
      "..Scaling with: MinMaxScaler()\n",
      "\n"
     ]
    }
   ],
   "source": [
    "# Fit to and transform the data\n",
    "projected_data = mapper.fit_transform(data, projection=[0,1]) # X-Y axis"
   ]
  },
  {
   "cell_type": "code",
   "execution_count": 5,
   "id": "helpful-briefs",
   "metadata": {},
   "outputs": [
    {
     "name": "stdout",
     "output_type": "stream",
     "text": [
      "Mapping on data shaped (569, 30) using lens shaped (569, 2)\n",
      "\n",
      "Creating 100 hypercubes.\n",
      "\n",
      "Created 89 edges and 210 nodes in 0:00:00.062993.\n"
     ]
    }
   ],
   "source": [
    "# Create dictionary called 'graph' with nodes, edges and meta-information\n",
    "graph = mapper.map(projected_data, \n",
    "                   data, \n",
    "                   clusterer=cluster.AgglomerativeClustering(n_clusters=10,\n",
    "                                                             linkage=\"complete\",\n",
    "                                                             affinity=\"cosine\"))"
   ]
  },
  {
   "cell_type": "code",
   "execution_count": 6,
   "id": "surrounded-pennsylvania",
   "metadata": {},
   "outputs": [
    {
     "name": "stdout",
     "output_type": "stream",
     "text": [
      "Wrote visualization to: breast_cancer_dataset_visualization.html\n"
     ]
    },
    {
     "data": {
      "text/html": [
       "<style>\n",
       "        .container { width:100% !important; }\n",
       "        .output_scroll {height: 800px !important;}\n",
       "        </style>"
      ],
      "text/plain": [
       "<IPython.core.display.HTML object>"
      ]
     },
     "metadata": {},
     "output_type": "display_data"
    },
    {
     "name": "stderr",
     "output_type": "stream",
     "text": [
      "C:\\Users\\ibatu\\anaconda3\\envs\\tda\\lib\\site-packages\\IPython\\core\\display.py:717: UserWarning: Consider using IPython.display.IFrame instead\n",
      "  warnings.warn(\"Consider using IPython.display.IFrame instead\")\n"
     ]
    },
    {
     "data": {
      "text/html": [
       "<iframe src=breast_cancer_dataset_visualization.html width=100%% height=800 frameBorder=\"0\"></iframe>"
      ],
      "text/plain": [
       "<IPython.core.display.HTML object>"
      ]
     },
     "metadata": {},
     "output_type": "display_data"
    }
   ],
   "source": [
    "# Visualize it\n",
    "html = mapper.visualize(graph, path_html=\"breast_cancer_dataset_visualization.html\",\n",
    "                 title=\"Breast Cancer Dataset (n_samples=569)\")\n",
    "\n",
    "# Inline display\n",
    "jupyter.display(path_html=\"breast_cancer_dataset_visualization.html\")"
   ]
  }
 ],
 "metadata": {
  "kernelspec": {
   "display_name": "Python 3",
   "language": "python",
   "name": "python3"
  },
  "language_info": {
   "codemirror_mode": {
    "name": "ipython",
    "version": 3
   },
   "file_extension": ".py",
   "mimetype": "text/x-python",
   "name": "python",
   "nbconvert_exporter": "python",
   "pygments_lexer": "ipython3",
   "version": "3.9.1"
  }
 },
 "nbformat": 4,
 "nbformat_minor": 5
}
