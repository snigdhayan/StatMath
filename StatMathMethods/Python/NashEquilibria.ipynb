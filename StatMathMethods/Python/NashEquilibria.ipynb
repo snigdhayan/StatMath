{
 "cells": [
  {
   "cell_type": "markdown",
   "id": "1e803d38",
   "metadata": {},
   "source": [
    "# Nash Equilibria\n",
    "## Snigdhayan Mahanta\n",
    "\n",
    "Consider a `non-cooperative game` involving two or more players, where each player has a set of strategies. It is assumed that each player knows beforehand the strategies of the other players and the associated payoffs for each strategy (including one's own). A `Nash equilibrium` constitutes a set of strategy choices for each player, so that no player can increase the expected payoff by changing one's strategy as long as the other players stick to their choices. Under some reasonable hypotheses a `Nash equilibrium` always exists but it may not be unique.\n",
    "\n",
    "I have used the python library `Nashpy` (https://nashpy.readthedocs.io/en/stable/index.html) to create a two player game (row player and column player) with $4$ strategic options for each player. Then I computed the `Nash equilibria` using the `Lemke-Howson algorithm`."
   ]
  },
  {
   "cell_type": "code",
   "execution_count": 1,
   "id": "6cd4071b",
   "metadata": {},
   "outputs": [],
   "source": [
    "import nashpy as nash\n",
    "import numpy as np"
   ]
  },
  {
   "cell_type": "code",
   "execution_count": 2,
   "id": "99083134",
   "metadata": {},
   "outputs": [],
   "source": [
    "# Global parameters\n",
    "n_rows = 4\n",
    "n_cols = 4\n",
    "choices = range(-9, 10)\n",
    "size = n_rows*n_cols"
   ]
  },
  {
   "cell_type": "code",
   "execution_count": 3,
   "id": "794206b0",
   "metadata": {},
   "outputs": [],
   "source": [
    "# Create payoff matrices\n",
    "np.random.seed(seed=42)\n",
    "x = np.random.choice(choices, size = size, replace = True)\n",
    "A = x.reshape(n_rows, n_cols)\n",
    "\n",
    "y = np.random.choice(choices, size = size, replace = True)\n",
    "B = y.reshape(n_rows, n_cols)"
   ]
  },
  {
   "cell_type": "code",
   "execution_count": 4,
   "id": "73f3506a",
   "metadata": {},
   "outputs": [
    {
     "data": {
      "text/plain": [
       "array([[-3,  5,  1, -2],\n",
       "       [-3,  9,  1,  1],\n",
       "       [-6, -2, -7, -8],\n",
       "       [ 2, -4, -8, -9]])"
      ]
     },
     "execution_count": 4,
     "metadata": {},
     "output_type": "execute_result"
    }
   ],
   "source": [
    "# Row player's payoff matrix\n",
    "A"
   ]
  },
  {
   "cell_type": "code",
   "execution_count": 5,
   "id": "26b4f7eb",
   "metadata": {},
   "outputs": [
    {
     "data": {
      "text/plain": [
       "array([[ 2,  2,  7,  0],\n",
       "       [ 6,  5,  5,  9],\n",
       "       [ 2, -7, -5,  9],\n",
       "       [-3, -1, -3,  8]])"
      ]
     },
     "execution_count": 5,
     "metadata": {},
     "output_type": "execute_result"
    }
   ],
   "source": [
    "# Column player's payoff matrix\n",
    "B"
   ]
  },
  {
   "cell_type": "code",
   "execution_count": 6,
   "id": "b52e0658",
   "metadata": {},
   "outputs": [
    {
     "name": "stdout",
     "output_type": "stream",
     "text": [
      "(array([1., 0., 0., 0.]), array([0., 0., 1., 0.]))\n",
      "(array([0., 1., 0., 0.]), array([0., 0., 0., 1.]))\n",
      "(array([0., 1., 0., 0.]), array([0., 0., 0., 1.]))\n",
      "(array([0., 1., 0., 0.]), array([0., 0., 0., 1.]))\n",
      "(array([0., 1., 0., 0.]), array([0., 0., 0., 1.]))\n",
      "(array([0., 1., 0., 0.]), array([0., 0., 0., 1.]))\n",
      "(array([1., 0., 0., 0.]), array([0., 0., 1., 0.]))\n",
      "(array([0., 1., 0., 0.]), array([0., 0., 0., 1.]))\n"
     ]
    }
   ],
   "source": [
    "# Create a game and compute Nash equilibria\n",
    "myGame = nash.Game(A, B)\n",
    "myGame.lemke_howson(initial_dropped_label=0)\n",
    "\n",
    "equilibria = myGame.lemke_howson_enumeration()\n",
    "for eq in equilibria:\n",
    "    print(eq)"
   ]
  },
  {
   "cell_type": "markdown",
   "id": "5e601d3b",
   "metadata": {},
   "source": [
    "The algorithm appears to have found $2$ distinct equilibria."
   ]
  }
 ],
 "metadata": {
  "kernelspec": {
   "display_name": "Python 3",
   "language": "python",
   "name": "python3"
  },
  "language_info": {
   "codemirror_mode": {
    "name": "ipython",
    "version": 3
   },
   "file_extension": ".py",
   "mimetype": "text/x-python",
   "name": "python",
   "nbconvert_exporter": "python",
   "pygments_lexer": "ipython3",
   "version": "3.6.15"
  }
 },
 "nbformat": 4,
 "nbformat_minor": 5
}
