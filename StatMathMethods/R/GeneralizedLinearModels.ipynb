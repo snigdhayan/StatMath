{
 "cells": [
  {
   "cell_type": "markdown",
   "id": "5b50de35",
   "metadata": {},
   "source": [
    "# Generalized Linear Models\n",
    "## Author: Snigdhayan Mahanta\n",
    "\n",
    "`Generalized linear models` or `GLMs` are very useful in many data science use cases. A `GLM` enhances the standard `linear regression` model by adding an option to specify a distribution from the `exponential family` that fits the regression error. Along with the family one can specify a `link function` that can often be a source of indecision for a data scientist. For example, the `logistic regression` model uses the `binomial family` with the `logit link function`. However, there are other  `link functions` like `probit` and `cloglog` for the `binomial family`. Instead of worrying about the right choice one can apply all choices and compare the models with the help of `anova`.\n",
    "\n",
    "I have trained 3 different `binomial regression` models with 3 different `link functions` on the same credit scoring dataset and compared them below."
   ]
  },
  {
   "cell_type": "code",
   "execution_count": 1,
   "id": "9ba24ee2",
   "metadata": {},
   "outputs": [
    {
     "data": {
      "text/html": [
       "<table class=\"dataframe\">\n",
       "<caption>A data.frame: 5 × 14</caption>\n",
       "<thead>\n",
       "\t<tr><th></th><th scope=col>status_of_existing_checking_account</th><th scope=col>duration_in_month</th><th scope=col>credit_history</th><th scope=col>purpose</th><th scope=col>credit_amount</th><th scope=col>savings_account_and_bonds</th><th scope=col>present_employment_since</th><th scope=col>installment_rate_in_percentage_of_disposable_income</th><th scope=col>other_debtors_or_guarantors</th><th scope=col>property</th><th scope=col>age_in_years</th><th scope=col>other_installment_plans</th><th scope=col>housing</th><th scope=col>creditability</th></tr>\n",
       "\t<tr><th></th><th scope=col>&lt;fct&gt;</th><th scope=col>&lt;int&gt;</th><th scope=col>&lt;fct&gt;</th><th scope=col>&lt;fct&gt;</th><th scope=col>&lt;int&gt;</th><th scope=col>&lt;fct&gt;</th><th scope=col>&lt;fct&gt;</th><th scope=col>&lt;int&gt;</th><th scope=col>&lt;fct&gt;</th><th scope=col>&lt;fct&gt;</th><th scope=col>&lt;int&gt;</th><th scope=col>&lt;fct&gt;</th><th scope=col>&lt;fct&gt;</th><th scope=col>&lt;int&gt;</th></tr>\n",
       "</thead>\n",
       "<tbody>\n",
       "\t<tr><th scope=row>1</th><td><span style=white-space:pre-wrap>... &lt; 0 DM         </span></td><td> 6</td><td>critical account/ other credits existing (not at this bank)</td><td><span style=white-space:pre-wrap>radio/television   </span></td><td>1169</td><td>unknown/ no savings account</td><td><span style=white-space:pre-wrap>... &gt;= 7 years    </span></td><td>4</td><td><span style=white-space:pre-wrap>none     </span></td><td><span style=white-space:pre-wrap>real estate                                       </span></td><td>67</td><td>none</td><td><span style=white-space:pre-wrap>own     </span></td><td>0</td></tr>\n",
       "\t<tr><th scope=row>2</th><td><span style=white-space:pre-wrap>0 &lt;= ... &lt; 200 DM  </span></td><td>48</td><td><span style=white-space:pre-wrap>existing credits paid back duly till now                   </span></td><td><span style=white-space:pre-wrap>radio/television   </span></td><td>5951</td><td><span style=white-space:pre-wrap>... &lt; 100 DM               </span></td><td>1 &lt;= ... &lt; 4 years</td><td>2</td><td><span style=white-space:pre-wrap>none     </span></td><td><span style=white-space:pre-wrap>real estate                                       </span></td><td>22</td><td>none</td><td><span style=white-space:pre-wrap>own     </span></td><td>1</td></tr>\n",
       "\t<tr><th scope=row>3</th><td>no checking account</td><td>12</td><td>critical account/ other credits existing (not at this bank)</td><td><span style=white-space:pre-wrap>education          </span></td><td>2096</td><td><span style=white-space:pre-wrap>... &lt; 100 DM               </span></td><td>4 &lt;= ... &lt; 7 years</td><td>2</td><td><span style=white-space:pre-wrap>none     </span></td><td><span style=white-space:pre-wrap>real estate                                       </span></td><td>49</td><td>none</td><td><span style=white-space:pre-wrap>own     </span></td><td>0</td></tr>\n",
       "\t<tr><th scope=row>4</th><td><span style=white-space:pre-wrap>... &lt; 0 DM         </span></td><td>42</td><td><span style=white-space:pre-wrap>existing credits paid back duly till now                   </span></td><td>furniture/equipment</td><td>7882</td><td><span style=white-space:pre-wrap>... &lt; 100 DM               </span></td><td>4 &lt;= ... &lt; 7 years</td><td>2</td><td>guarantor</td><td>building society savings agreement/ life insurance</td><td>45</td><td>none</td><td>for free</td><td>0</td></tr>\n",
       "\t<tr><th scope=row>5</th><td><span style=white-space:pre-wrap>... &lt; 0 DM         </span></td><td>24</td><td><span style=white-space:pre-wrap>delay in paying off in the past                            </span></td><td><span style=white-space:pre-wrap>car (new)          </span></td><td>4870</td><td><span style=white-space:pre-wrap>... &lt; 100 DM               </span></td><td>1 &lt;= ... &lt; 4 years</td><td>3</td><td><span style=white-space:pre-wrap>none     </span></td><td><span style=white-space:pre-wrap>unknown / no property                             </span></td><td>53</td><td>none</td><td>for free</td><td>1</td></tr>\n",
       "</tbody>\n",
       "</table>\n"
      ],
      "text/latex": [
       "A data.frame: 5 × 14\n",
       "\\begin{tabular}{r|llllllllllllll}\n",
       "  & status\\_of\\_existing\\_checking\\_account & duration\\_in\\_month & credit\\_history & purpose & credit\\_amount & savings\\_account\\_and\\_bonds & present\\_employment\\_since & installment\\_rate\\_in\\_percentage\\_of\\_disposable\\_income & other\\_debtors\\_or\\_guarantors & property & age\\_in\\_years & other\\_installment\\_plans & housing & creditability\\\\\n",
       "  & <fct> & <int> & <fct> & <fct> & <int> & <fct> & <fct> & <int> & <fct> & <fct> & <int> & <fct> & <fct> & <int>\\\\\n",
       "\\hline\n",
       "\t1 & ... < 0 DM          &  6 & critical account/ other credits existing (not at this bank) & radio/television    & 1169 & unknown/ no savings account & ... >= 7 years     & 4 & none      & real estate                                        & 67 & none & own      & 0\\\\\n",
       "\t2 & 0 <= ... < 200 DM   & 48 & existing credits paid back duly till now                    & radio/television    & 5951 & ... < 100 DM                & 1 <= ... < 4 years & 2 & none      & real estate                                        & 22 & none & own      & 1\\\\\n",
       "\t3 & no checking account & 12 & critical account/ other credits existing (not at this bank) & education           & 2096 & ... < 100 DM                & 4 <= ... < 7 years & 2 & none      & real estate                                        & 49 & none & own      & 0\\\\\n",
       "\t4 & ... < 0 DM          & 42 & existing credits paid back duly till now                    & furniture/equipment & 7882 & ... < 100 DM                & 4 <= ... < 7 years & 2 & guarantor & building society savings agreement/ life insurance & 45 & none & for free & 0\\\\\n",
       "\t5 & ... < 0 DM          & 24 & delay in paying off in the past                             & car (new)           & 4870 & ... < 100 DM                & 1 <= ... < 4 years & 3 & none      & unknown / no property                              & 53 & none & for free & 1\\\\\n",
       "\\end{tabular}\n"
      ],
      "text/markdown": [
       "\n",
       "A data.frame: 5 × 14\n",
       "\n",
       "| <!--/--> | status_of_existing_checking_account &lt;fct&gt; | duration_in_month &lt;int&gt; | credit_history &lt;fct&gt; | purpose &lt;fct&gt; | credit_amount &lt;int&gt; | savings_account_and_bonds &lt;fct&gt; | present_employment_since &lt;fct&gt; | installment_rate_in_percentage_of_disposable_income &lt;int&gt; | other_debtors_or_guarantors &lt;fct&gt; | property &lt;fct&gt; | age_in_years &lt;int&gt; | other_installment_plans &lt;fct&gt; | housing &lt;fct&gt; | creditability &lt;int&gt; |\n",
       "|---|---|---|---|---|---|---|---|---|---|---|---|---|---|---|\n",
       "| 1 | ... &lt; 0 DM          |  6 | critical account/ other credits existing (not at this bank) | radio/television    | 1169 | unknown/ no savings account | ... &gt;= 7 years     | 4 | none      | real estate                                        | 67 | none | own      | 0 |\n",
       "| 2 | 0 &lt;= ... &lt; 200 DM   | 48 | existing credits paid back duly till now                    | radio/television    | 5951 | ... &lt; 100 DM                | 1 &lt;= ... &lt; 4 years | 2 | none      | real estate                                        | 22 | none | own      | 1 |\n",
       "| 3 | no checking account | 12 | critical account/ other credits existing (not at this bank) | education           | 2096 | ... &lt; 100 DM                | 4 &lt;= ... &lt; 7 years | 2 | none      | real estate                                        | 49 | none | own      | 0 |\n",
       "| 4 | ... &lt; 0 DM          | 42 | existing credits paid back duly till now                    | furniture/equipment | 7882 | ... &lt; 100 DM                | 4 &lt;= ... &lt; 7 years | 2 | guarantor | building society savings agreement/ life insurance | 45 | none | for free | 0 |\n",
       "| 5 | ... &lt; 0 DM          | 24 | delay in paying off in the past                             | car (new)           | 4870 | ... &lt; 100 DM                | 1 &lt;= ... &lt; 4 years | 3 | none      | unknown / no property                              | 53 | none | for free | 1 |\n",
       "\n"
      ],
      "text/plain": [
       "  status_of_existing_checking_account duration_in_month\n",
       "1 ... < 0 DM                           6               \n",
       "2 0 <= ... < 200 DM                   48               \n",
       "3 no checking account                 12               \n",
       "4 ... < 0 DM                          42               \n",
       "5 ... < 0 DM                          24               \n",
       "  credit_history                                             \n",
       "1 critical account/ other credits existing (not at this bank)\n",
       "2 existing credits paid back duly till now                   \n",
       "3 critical account/ other credits existing (not at this bank)\n",
       "4 existing credits paid back duly till now                   \n",
       "5 delay in paying off in the past                            \n",
       "  purpose             credit_amount savings_account_and_bonds  \n",
       "1 radio/television    1169          unknown/ no savings account\n",
       "2 radio/television    5951          ... < 100 DM               \n",
       "3 education           2096          ... < 100 DM               \n",
       "4 furniture/equipment 7882          ... < 100 DM               \n",
       "5 car (new)           4870          ... < 100 DM               \n",
       "  present_employment_since installment_rate_in_percentage_of_disposable_income\n",
       "1 ... >= 7 years           4                                                  \n",
       "2 1 <= ... < 4 years       2                                                  \n",
       "3 4 <= ... < 7 years       2                                                  \n",
       "4 4 <= ... < 7 years       2                                                  \n",
       "5 1 <= ... < 4 years       3                                                  \n",
       "  other_debtors_or_guarantors\n",
       "1 none                       \n",
       "2 none                       \n",
       "3 none                       \n",
       "4 guarantor                  \n",
       "5 none                       \n",
       "  property                                           age_in_years\n",
       "1 real estate                                        67          \n",
       "2 real estate                                        22          \n",
       "3 real estate                                        49          \n",
       "4 building society savings agreement/ life insurance 45          \n",
       "5 unknown / no property                              53          \n",
       "  other_installment_plans housing  creditability\n",
       "1 none                    own      0            \n",
       "2 none                    own      1            \n",
       "3 none                    own      0            \n",
       "4 none                    for free 0            \n",
       "5 none                    for free 1            "
      ]
     },
     "metadata": {},
     "output_type": "display_data"
    }
   ],
   "source": [
    "# Read credit scoring dataset (label is \"creditability\")\n",
    "df <- read.csv('CreditScoringData.csv') # the file must be available locally\n",
    "df <- df[-c(1)]\n",
    "head(df, 5)"
   ]
  },
  {
   "cell_type": "code",
   "execution_count": 2,
   "id": "7a05c8b2",
   "metadata": {},
   "outputs": [],
   "source": [
    "# First model with link function \"logit\"\n",
    "model1 <- glm(creditability ~ ., family = binomial(logit), data = df)\n",
    "model1 <- update(model1, ~ . - property) # remove \"property\" as predictor"
   ]
  },
  {
   "cell_type": "code",
   "execution_count": 3,
   "id": "5e3d7200",
   "metadata": {},
   "outputs": [
    {
     "data": {
      "text/html": [
       "<table class=\"dataframe\">\n",
       "<caption>A anova: 13 × 5</caption>\n",
       "<thead>\n",
       "\t<tr><th></th><th scope=col>Df</th><th scope=col>Deviance</th><th scope=col>Resid. Df</th><th scope=col>Resid. Dev</th><th scope=col>Pr(&gt;Chi)</th></tr>\n",
       "\t<tr><th></th><th scope=col>&lt;int&gt;</th><th scope=col>&lt;dbl&gt;</th><th scope=col>&lt;int&gt;</th><th scope=col>&lt;dbl&gt;</th><th scope=col>&lt;dbl&gt;</th></tr>\n",
       "</thead>\n",
       "<tbody>\n",
       "\t<tr><th scope=row>NULL</th><td>NA</td><td>        NA</td><td>999</td><td>1221.7286</td><td>          NA</td></tr>\n",
       "\t<tr><th scope=row>status_of_existing_checking_account</th><td> 3</td><td>131.335922</td><td>996</td><td>1090.3927</td><td>2.787203e-28</td></tr>\n",
       "\t<tr><th scope=row>duration_in_month</th><td> 1</td><td> 38.496739</td><td>995</td><td>1051.8959</td><td>5.484526e-10</td></tr>\n",
       "\t<tr><th scope=row>credit_history</th><td> 4</td><td> 29.311001</td><td>991</td><td>1022.5849</td><td>6.758712e-06</td></tr>\n",
       "\t<tr><th scope=row>purpose</th><td> 9</td><td> 33.508884</td><td>982</td><td> 989.0761</td><td>1.088679e-04</td></tr>\n",
       "\t<tr><th scope=row>credit_amount</th><td> 1</td><td>  1.504216</td><td>981</td><td> 987.5718</td><td>2.200237e-01</td></tr>\n",
       "\t<tr><th scope=row>savings_account_and_bonds</th><td> 4</td><td> 19.067515</td><td>977</td><td> 968.5043</td><td>7.622985e-04</td></tr>\n",
       "\t<tr><th scope=row>present_employment_since</th><td> 4</td><td> 12.496157</td><td>973</td><td> 956.0082</td><td>1.401900e-02</td></tr>\n",
       "\t<tr><th scope=row>installment_rate_in_percentage_of_disposable_income</th><td> 1</td><td> 11.906610</td><td>972</td><td> 944.1016</td><td>5.593509e-04</td></tr>\n",
       "\t<tr><th scope=row>other_debtors_or_guarantors</th><td> 2</td><td>  8.238029</td><td>970</td><td> 935.8635</td><td>1.626053e-02</td></tr>\n",
       "\t<tr><th scope=row>age_in_years</th><td> 1</td><td>  3.854739</td><td>969</td><td> 932.0088</td><td>4.960565e-02</td></tr>\n",
       "\t<tr><th scope=row>other_installment_plans</th><td> 2</td><td>  7.552193</td><td>967</td><td> 924.4566</td><td>2.291196e-02</td></tr>\n",
       "\t<tr><th scope=row>housing</th><td> 2</td><td>  5.685097</td><td>965</td><td> 918.7715</td><td>5.827697e-02</td></tr>\n",
       "</tbody>\n",
       "</table>\n"
      ],
      "text/latex": [
       "A anova: 13 × 5\n",
       "\\begin{tabular}{r|lllll}\n",
       "  & Df & Deviance & Resid. Df & Resid. Dev & Pr(>Chi)\\\\\n",
       "  & <int> & <dbl> & <int> & <dbl> & <dbl>\\\\\n",
       "\\hline\n",
       "\tNULL & NA &         NA & 999 & 1221.7286 &           NA\\\\\n",
       "\tstatus\\_of\\_existing\\_checking\\_account &  3 & 131.335922 & 996 & 1090.3927 & 2.787203e-28\\\\\n",
       "\tduration\\_in\\_month &  1 &  38.496739 & 995 & 1051.8959 & 5.484526e-10\\\\\n",
       "\tcredit\\_history &  4 &  29.311001 & 991 & 1022.5849 & 6.758712e-06\\\\\n",
       "\tpurpose &  9 &  33.508884 & 982 &  989.0761 & 1.088679e-04\\\\\n",
       "\tcredit\\_amount &  1 &   1.504216 & 981 &  987.5718 & 2.200237e-01\\\\\n",
       "\tsavings\\_account\\_and\\_bonds &  4 &  19.067515 & 977 &  968.5043 & 7.622985e-04\\\\\n",
       "\tpresent\\_employment\\_since &  4 &  12.496157 & 973 &  956.0082 & 1.401900e-02\\\\\n",
       "\tinstallment\\_rate\\_in\\_percentage\\_of\\_disposable\\_income &  1 &  11.906610 & 972 &  944.1016 & 5.593509e-04\\\\\n",
       "\tother\\_debtors\\_or\\_guarantors &  2 &   8.238029 & 970 &  935.8635 & 1.626053e-02\\\\\n",
       "\tage\\_in\\_years &  1 &   3.854739 & 969 &  932.0088 & 4.960565e-02\\\\\n",
       "\tother\\_installment\\_plans &  2 &   7.552193 & 967 &  924.4566 & 2.291196e-02\\\\\n",
       "\thousing &  2 &   5.685097 & 965 &  918.7715 & 5.827697e-02\\\\\n",
       "\\end{tabular}\n"
      ],
      "text/markdown": [
       "\n",
       "A anova: 13 × 5\n",
       "\n",
       "| <!--/--> | Df &lt;int&gt; | Deviance &lt;dbl&gt; | Resid. Df &lt;int&gt; | Resid. Dev &lt;dbl&gt; | Pr(&gt;Chi) &lt;dbl&gt; |\n",
       "|---|---|---|---|---|---|\n",
       "| NULL | NA |         NA | 999 | 1221.7286 |           NA |\n",
       "| status_of_existing_checking_account |  3 | 131.335922 | 996 | 1090.3927 | 2.787203e-28 |\n",
       "| duration_in_month |  1 |  38.496739 | 995 | 1051.8959 | 5.484526e-10 |\n",
       "| credit_history |  4 |  29.311001 | 991 | 1022.5849 | 6.758712e-06 |\n",
       "| purpose |  9 |  33.508884 | 982 |  989.0761 | 1.088679e-04 |\n",
       "| credit_amount |  1 |   1.504216 | 981 |  987.5718 | 2.200237e-01 |\n",
       "| savings_account_and_bonds |  4 |  19.067515 | 977 |  968.5043 | 7.622985e-04 |\n",
       "| present_employment_since |  4 |  12.496157 | 973 |  956.0082 | 1.401900e-02 |\n",
       "| installment_rate_in_percentage_of_disposable_income |  1 |  11.906610 | 972 |  944.1016 | 5.593509e-04 |\n",
       "| other_debtors_or_guarantors |  2 |   8.238029 | 970 |  935.8635 | 1.626053e-02 |\n",
       "| age_in_years |  1 |   3.854739 | 969 |  932.0088 | 4.960565e-02 |\n",
       "| other_installment_plans |  2 |   7.552193 | 967 |  924.4566 | 2.291196e-02 |\n",
       "| housing |  2 |   5.685097 | 965 |  918.7715 | 5.827697e-02 |\n",
       "\n"
      ],
      "text/plain": [
       "                                                    Df Deviance   Resid. Df\n",
       "NULL                                                NA         NA 999      \n",
       "status_of_existing_checking_account                  3 131.335922 996      \n",
       "duration_in_month                                    1  38.496739 995      \n",
       "credit_history                                       4  29.311001 991      \n",
       "purpose                                              9  33.508884 982      \n",
       "credit_amount                                        1   1.504216 981      \n",
       "savings_account_and_bonds                            4  19.067515 977      \n",
       "present_employment_since                             4  12.496157 973      \n",
       "installment_rate_in_percentage_of_disposable_income  1  11.906610 972      \n",
       "other_debtors_or_guarantors                          2   8.238029 970      \n",
       "age_in_years                                         1   3.854739 969      \n",
       "other_installment_plans                              2   7.552193 967      \n",
       "housing                                              2   5.685097 965      \n",
       "                                                    Resid. Dev Pr(>Chi)    \n",
       "NULL                                                1221.7286            NA\n",
       "status_of_existing_checking_account                 1090.3927  2.787203e-28\n",
       "duration_in_month                                   1051.8959  5.484526e-10\n",
       "credit_history                                      1022.5849  6.758712e-06\n",
       "purpose                                              989.0761  1.088679e-04\n",
       "credit_amount                                        987.5718  2.200237e-01\n",
       "savings_account_and_bonds                            968.5043  7.622985e-04\n",
       "present_employment_since                             956.0082  1.401900e-02\n",
       "installment_rate_in_percentage_of_disposable_income  944.1016  5.593509e-04\n",
       "other_debtors_or_guarantors                          935.8635  1.626053e-02\n",
       "age_in_years                                         932.0088  4.960565e-02\n",
       "other_installment_plans                              924.4566  2.291196e-02\n",
       "housing                                              918.7715  5.827697e-02"
      ]
     },
     "metadata": {},
     "output_type": "display_data"
    }
   ],
   "source": [
    "# Chi-squared test\n",
    "anova(model1, test = \"Chisq\")"
   ]
  },
  {
   "cell_type": "code",
   "execution_count": 4,
   "id": "f302d686",
   "metadata": {},
   "outputs": [],
   "source": [
    "# Second model with link function \"probit\"\n",
    "model2 <- glm(creditability ~ ., family = binomial(probit), data = df)\n",
    "model2 <- update(model2, ~ . - property) # remove \"property\" as predictor"
   ]
  },
  {
   "cell_type": "code",
   "execution_count": 5,
   "id": "97b00368",
   "metadata": {},
   "outputs": [
    {
     "data": {
      "text/html": [
       "<table class=\"dataframe\">\n",
       "<caption>A anova: 13 × 5</caption>\n",
       "<thead>\n",
       "\t<tr><th></th><th scope=col>Df</th><th scope=col>Deviance</th><th scope=col>Resid. Df</th><th scope=col>Resid. Dev</th><th scope=col>Pr(&gt;Chi)</th></tr>\n",
       "\t<tr><th></th><th scope=col>&lt;int&gt;</th><th scope=col>&lt;dbl&gt;</th><th scope=col>&lt;int&gt;</th><th scope=col>&lt;dbl&gt;</th><th scope=col>&lt;dbl&gt;</th></tr>\n",
       "</thead>\n",
       "<tbody>\n",
       "\t<tr><th scope=row>NULL</th><td>NA</td><td>        NA</td><td>999</td><td>1221.7286</td><td>          NA</td></tr>\n",
       "\t<tr><th scope=row>status_of_existing_checking_account</th><td> 3</td><td>131.335922</td><td>996</td><td>1090.3927</td><td>2.787203e-28</td></tr>\n",
       "\t<tr><th scope=row>duration_in_month</th><td> 1</td><td> 37.995907</td><td>995</td><td>1052.3968</td><td>7.089320e-10</td></tr>\n",
       "\t<tr><th scope=row>credit_history</th><td> 4</td><td> 29.926492</td><td>991</td><td>1022.4703</td><td>5.066010e-06</td></tr>\n",
       "\t<tr><th scope=row>purpose</th><td> 9</td><td> 34.424790</td><td>982</td><td> 988.0455</td><td>7.523205e-05</td></tr>\n",
       "\t<tr><th scope=row>credit_amount</th><td> 1</td><td>  1.754200</td><td>981</td><td> 986.2913</td><td>1.853497e-01</td></tr>\n",
       "\t<tr><th scope=row>savings_account_and_bonds</th><td> 4</td><td> 17.878973</td><td>977</td><td> 968.4123</td><td>1.303150e-03</td></tr>\n",
       "\t<tr><th scope=row>present_employment_since</th><td> 4</td><td> 12.441058</td><td>973</td><td> 955.9713</td><td>1.435580e-02</td></tr>\n",
       "\t<tr><th scope=row>installment_rate_in_percentage_of_disposable_income</th><td> 1</td><td> 11.833466</td><td>972</td><td> 944.1378</td><td>5.817559e-04</td></tr>\n",
       "\t<tr><th scope=row>other_debtors_or_guarantors</th><td> 2</td><td>  7.730122</td><td>970</td><td> 936.4077</td><td>2.096165e-02</td></tr>\n",
       "\t<tr><th scope=row>age_in_years</th><td> 1</td><td>  4.075400</td><td>969</td><td> 932.3323</td><td>4.351196e-02</td></tr>\n",
       "\t<tr><th scope=row>other_installment_plans</th><td> 2</td><td>  8.165223</td><td>967</td><td> 924.1671</td><td>1.686337e-02</td></tr>\n",
       "\t<tr><th scope=row>housing</th><td> 2</td><td>  5.729147</td><td>965</td><td> 918.4379</td><td>5.700744e-02</td></tr>\n",
       "</tbody>\n",
       "</table>\n"
      ],
      "text/latex": [
       "A anova: 13 × 5\n",
       "\\begin{tabular}{r|lllll}\n",
       "  & Df & Deviance & Resid. Df & Resid. Dev & Pr(>Chi)\\\\\n",
       "  & <int> & <dbl> & <int> & <dbl> & <dbl>\\\\\n",
       "\\hline\n",
       "\tNULL & NA &         NA & 999 & 1221.7286 &           NA\\\\\n",
       "\tstatus\\_of\\_existing\\_checking\\_account &  3 & 131.335922 & 996 & 1090.3927 & 2.787203e-28\\\\\n",
       "\tduration\\_in\\_month &  1 &  37.995907 & 995 & 1052.3968 & 7.089320e-10\\\\\n",
       "\tcredit\\_history &  4 &  29.926492 & 991 & 1022.4703 & 5.066010e-06\\\\\n",
       "\tpurpose &  9 &  34.424790 & 982 &  988.0455 & 7.523205e-05\\\\\n",
       "\tcredit\\_amount &  1 &   1.754200 & 981 &  986.2913 & 1.853497e-01\\\\\n",
       "\tsavings\\_account\\_and\\_bonds &  4 &  17.878973 & 977 &  968.4123 & 1.303150e-03\\\\\n",
       "\tpresent\\_employment\\_since &  4 &  12.441058 & 973 &  955.9713 & 1.435580e-02\\\\\n",
       "\tinstallment\\_rate\\_in\\_percentage\\_of\\_disposable\\_income &  1 &  11.833466 & 972 &  944.1378 & 5.817559e-04\\\\\n",
       "\tother\\_debtors\\_or\\_guarantors &  2 &   7.730122 & 970 &  936.4077 & 2.096165e-02\\\\\n",
       "\tage\\_in\\_years &  1 &   4.075400 & 969 &  932.3323 & 4.351196e-02\\\\\n",
       "\tother\\_installment\\_plans &  2 &   8.165223 & 967 &  924.1671 & 1.686337e-02\\\\\n",
       "\thousing &  2 &   5.729147 & 965 &  918.4379 & 5.700744e-02\\\\\n",
       "\\end{tabular}\n"
      ],
      "text/markdown": [
       "\n",
       "A anova: 13 × 5\n",
       "\n",
       "| <!--/--> | Df &lt;int&gt; | Deviance &lt;dbl&gt; | Resid. Df &lt;int&gt; | Resid. Dev &lt;dbl&gt; | Pr(&gt;Chi) &lt;dbl&gt; |\n",
       "|---|---|---|---|---|---|\n",
       "| NULL | NA |         NA | 999 | 1221.7286 |           NA |\n",
       "| status_of_existing_checking_account |  3 | 131.335922 | 996 | 1090.3927 | 2.787203e-28 |\n",
       "| duration_in_month |  1 |  37.995907 | 995 | 1052.3968 | 7.089320e-10 |\n",
       "| credit_history |  4 |  29.926492 | 991 | 1022.4703 | 5.066010e-06 |\n",
       "| purpose |  9 |  34.424790 | 982 |  988.0455 | 7.523205e-05 |\n",
       "| credit_amount |  1 |   1.754200 | 981 |  986.2913 | 1.853497e-01 |\n",
       "| savings_account_and_bonds |  4 |  17.878973 | 977 |  968.4123 | 1.303150e-03 |\n",
       "| present_employment_since |  4 |  12.441058 | 973 |  955.9713 | 1.435580e-02 |\n",
       "| installment_rate_in_percentage_of_disposable_income |  1 |  11.833466 | 972 |  944.1378 | 5.817559e-04 |\n",
       "| other_debtors_or_guarantors |  2 |   7.730122 | 970 |  936.4077 | 2.096165e-02 |\n",
       "| age_in_years |  1 |   4.075400 | 969 |  932.3323 | 4.351196e-02 |\n",
       "| other_installment_plans |  2 |   8.165223 | 967 |  924.1671 | 1.686337e-02 |\n",
       "| housing |  2 |   5.729147 | 965 |  918.4379 | 5.700744e-02 |\n",
       "\n"
      ],
      "text/plain": [
       "                                                    Df Deviance   Resid. Df\n",
       "NULL                                                NA         NA 999      \n",
       "status_of_existing_checking_account                  3 131.335922 996      \n",
       "duration_in_month                                    1  37.995907 995      \n",
       "credit_history                                       4  29.926492 991      \n",
       "purpose                                              9  34.424790 982      \n",
       "credit_amount                                        1   1.754200 981      \n",
       "savings_account_and_bonds                            4  17.878973 977      \n",
       "present_employment_since                             4  12.441058 973      \n",
       "installment_rate_in_percentage_of_disposable_income  1  11.833466 972      \n",
       "other_debtors_or_guarantors                          2   7.730122 970      \n",
       "age_in_years                                         1   4.075400 969      \n",
       "other_installment_plans                              2   8.165223 967      \n",
       "housing                                              2   5.729147 965      \n",
       "                                                    Resid. Dev Pr(>Chi)    \n",
       "NULL                                                1221.7286            NA\n",
       "status_of_existing_checking_account                 1090.3927  2.787203e-28\n",
       "duration_in_month                                   1052.3968  7.089320e-10\n",
       "credit_history                                      1022.4703  5.066010e-06\n",
       "purpose                                              988.0455  7.523205e-05\n",
       "credit_amount                                        986.2913  1.853497e-01\n",
       "savings_account_and_bonds                            968.4123  1.303150e-03\n",
       "present_employment_since                             955.9713  1.435580e-02\n",
       "installment_rate_in_percentage_of_disposable_income  944.1378  5.817559e-04\n",
       "other_debtors_or_guarantors                          936.4077  2.096165e-02\n",
       "age_in_years                                         932.3323  4.351196e-02\n",
       "other_installment_plans                              924.1671  1.686337e-02\n",
       "housing                                              918.4379  5.700744e-02"
      ]
     },
     "metadata": {},
     "output_type": "display_data"
    }
   ],
   "source": [
    "# Chi-squared test\n",
    "anova(model2, test = \"Chisq\")"
   ]
  },
  {
   "cell_type": "code",
   "execution_count": 6,
   "id": "68ab9d22",
   "metadata": {},
   "outputs": [],
   "source": [
    "# Third model with link function \"cloglog\"\n",
    "model3 <- glm(creditability ~ ., family = binomial(cloglog), data = df)\n",
    "model3 <- update(model3, ~ . - property) # remove \"property\" as predictor"
   ]
  },
  {
   "cell_type": "code",
   "execution_count": 7,
   "id": "60873125",
   "metadata": {},
   "outputs": [
    {
     "data": {
      "text/html": [
       "<table class=\"dataframe\">\n",
       "<caption>A anova: 13 × 5</caption>\n",
       "<thead>\n",
       "\t<tr><th></th><th scope=col>Df</th><th scope=col>Deviance</th><th scope=col>Resid. Df</th><th scope=col>Resid. Dev</th><th scope=col>Pr(&gt;Chi)</th></tr>\n",
       "\t<tr><th></th><th scope=col>&lt;int&gt;</th><th scope=col>&lt;dbl&gt;</th><th scope=col>&lt;int&gt;</th><th scope=col>&lt;dbl&gt;</th><th scope=col>&lt;dbl&gt;</th></tr>\n",
       "</thead>\n",
       "<tbody>\n",
       "\t<tr><th scope=row>NULL</th><td>NA</td><td>         NA</td><td>999</td><td>1221.7286</td><td>          NA</td></tr>\n",
       "\t<tr><th scope=row>status_of_existing_checking_account</th><td> 3</td><td>131.3359218</td><td>996</td><td>1090.3927</td><td>2.787203e-28</td></tr>\n",
       "\t<tr><th scope=row>duration_in_month</th><td> 1</td><td> 39.7815180</td><td>995</td><td>1050.6112</td><td>2.840201e-10</td></tr>\n",
       "\t<tr><th scope=row>credit_history</th><td> 4</td><td> 26.5164929</td><td>991</td><td>1024.0947</td><td>2.489332e-05</td></tr>\n",
       "\t<tr><th scope=row>purpose</th><td> 9</td><td> 29.7730798</td><td>982</td><td> 994.3216</td><td>4.794703e-04</td></tr>\n",
       "\t<tr><th scope=row>credit_amount</th><td> 1</td><td>  0.2733114</td><td>981</td><td> 994.0483</td><td>6.011190e-01</td></tr>\n",
       "\t<tr><th scope=row>savings_account_and_bonds</th><td> 4</td><td> 22.8328649</td><td>977</td><td> 971.2154</td><td>1.367424e-04</td></tr>\n",
       "\t<tr><th scope=row>present_employment_since</th><td> 4</td><td> 12.4406551</td><td>973</td><td> 958.7748</td><td>1.435830e-02</td></tr>\n",
       "\t<tr><th scope=row>installment_rate_in_percentage_of_disposable_income</th><td> 1</td><td> 12.9505109</td><td>972</td><td> 945.8242</td><td>3.198342e-04</td></tr>\n",
       "\t<tr><th scope=row>other_debtors_or_guarantors</th><td> 2</td><td>  7.9087576</td><td>970</td><td> 937.9155</td><td>1.917057e-02</td></tr>\n",
       "\t<tr><th scope=row>age_in_years</th><td> 1</td><td>  3.6748476</td><td>969</td><td> 934.2406</td><td>5.523931e-02</td></tr>\n",
       "\t<tr><th scope=row>other_installment_plans</th><td> 2</td><td>  6.6028129</td><td>967</td><td> 927.6378</td><td>3.683133e-02</td></tr>\n",
       "\t<tr><th scope=row>housing</th><td> 2</td><td>  6.7236086</td><td>965</td><td> 920.9142</td><td>3.467264e-02</td></tr>\n",
       "</tbody>\n",
       "</table>\n"
      ],
      "text/latex": [
       "A anova: 13 × 5\n",
       "\\begin{tabular}{r|lllll}\n",
       "  & Df & Deviance & Resid. Df & Resid. Dev & Pr(>Chi)\\\\\n",
       "  & <int> & <dbl> & <int> & <dbl> & <dbl>\\\\\n",
       "\\hline\n",
       "\tNULL & NA &          NA & 999 & 1221.7286 &           NA\\\\\n",
       "\tstatus\\_of\\_existing\\_checking\\_account &  3 & 131.3359218 & 996 & 1090.3927 & 2.787203e-28\\\\\n",
       "\tduration\\_in\\_month &  1 &  39.7815180 & 995 & 1050.6112 & 2.840201e-10\\\\\n",
       "\tcredit\\_history &  4 &  26.5164929 & 991 & 1024.0947 & 2.489332e-05\\\\\n",
       "\tpurpose &  9 &  29.7730798 & 982 &  994.3216 & 4.794703e-04\\\\\n",
       "\tcredit\\_amount &  1 &   0.2733114 & 981 &  994.0483 & 6.011190e-01\\\\\n",
       "\tsavings\\_account\\_and\\_bonds &  4 &  22.8328649 & 977 &  971.2154 & 1.367424e-04\\\\\n",
       "\tpresent\\_employment\\_since &  4 &  12.4406551 & 973 &  958.7748 & 1.435830e-02\\\\\n",
       "\tinstallment\\_rate\\_in\\_percentage\\_of\\_disposable\\_income &  1 &  12.9505109 & 972 &  945.8242 & 3.198342e-04\\\\\n",
       "\tother\\_debtors\\_or\\_guarantors &  2 &   7.9087576 & 970 &  937.9155 & 1.917057e-02\\\\\n",
       "\tage\\_in\\_years &  1 &   3.6748476 & 969 &  934.2406 & 5.523931e-02\\\\\n",
       "\tother\\_installment\\_plans &  2 &   6.6028129 & 967 &  927.6378 & 3.683133e-02\\\\\n",
       "\thousing &  2 &   6.7236086 & 965 &  920.9142 & 3.467264e-02\\\\\n",
       "\\end{tabular}\n"
      ],
      "text/markdown": [
       "\n",
       "A anova: 13 × 5\n",
       "\n",
       "| <!--/--> | Df &lt;int&gt; | Deviance &lt;dbl&gt; | Resid. Df &lt;int&gt; | Resid. Dev &lt;dbl&gt; | Pr(&gt;Chi) &lt;dbl&gt; |\n",
       "|---|---|---|---|---|---|\n",
       "| NULL | NA |          NA | 999 | 1221.7286 |           NA |\n",
       "| status_of_existing_checking_account |  3 | 131.3359218 | 996 | 1090.3927 | 2.787203e-28 |\n",
       "| duration_in_month |  1 |  39.7815180 | 995 | 1050.6112 | 2.840201e-10 |\n",
       "| credit_history |  4 |  26.5164929 | 991 | 1024.0947 | 2.489332e-05 |\n",
       "| purpose |  9 |  29.7730798 | 982 |  994.3216 | 4.794703e-04 |\n",
       "| credit_amount |  1 |   0.2733114 | 981 |  994.0483 | 6.011190e-01 |\n",
       "| savings_account_and_bonds |  4 |  22.8328649 | 977 |  971.2154 | 1.367424e-04 |\n",
       "| present_employment_since |  4 |  12.4406551 | 973 |  958.7748 | 1.435830e-02 |\n",
       "| installment_rate_in_percentage_of_disposable_income |  1 |  12.9505109 | 972 |  945.8242 | 3.198342e-04 |\n",
       "| other_debtors_or_guarantors |  2 |   7.9087576 | 970 |  937.9155 | 1.917057e-02 |\n",
       "| age_in_years |  1 |   3.6748476 | 969 |  934.2406 | 5.523931e-02 |\n",
       "| other_installment_plans |  2 |   6.6028129 | 967 |  927.6378 | 3.683133e-02 |\n",
       "| housing |  2 |   6.7236086 | 965 |  920.9142 | 3.467264e-02 |\n",
       "\n"
      ],
      "text/plain": [
       "                                                    Df Deviance    Resid. Df\n",
       "NULL                                                NA          NA 999      \n",
       "status_of_existing_checking_account                  3 131.3359218 996      \n",
       "duration_in_month                                    1  39.7815180 995      \n",
       "credit_history                                       4  26.5164929 991      \n",
       "purpose                                              9  29.7730798 982      \n",
       "credit_amount                                        1   0.2733114 981      \n",
       "savings_account_and_bonds                            4  22.8328649 977      \n",
       "present_employment_since                             4  12.4406551 973      \n",
       "installment_rate_in_percentage_of_disposable_income  1  12.9505109 972      \n",
       "other_debtors_or_guarantors                          2   7.9087576 970      \n",
       "age_in_years                                         1   3.6748476 969      \n",
       "other_installment_plans                              2   6.6028129 967      \n",
       "housing                                              2   6.7236086 965      \n",
       "                                                    Resid. Dev Pr(>Chi)    \n",
       "NULL                                                1221.7286            NA\n",
       "status_of_existing_checking_account                 1090.3927  2.787203e-28\n",
       "duration_in_month                                   1050.6112  2.840201e-10\n",
       "credit_history                                      1024.0947  2.489332e-05\n",
       "purpose                                              994.3216  4.794703e-04\n",
       "credit_amount                                        994.0483  6.011190e-01\n",
       "savings_account_and_bonds                            971.2154  1.367424e-04\n",
       "present_employment_since                             958.7748  1.435830e-02\n",
       "installment_rate_in_percentage_of_disposable_income  945.8242  3.198342e-04\n",
       "other_debtors_or_guarantors                          937.9155  1.917057e-02\n",
       "age_in_years                                         934.2406  5.523931e-02\n",
       "other_installment_plans                              927.6378  3.683133e-02\n",
       "housing                                              920.9142  3.467264e-02"
      ]
     },
     "metadata": {},
     "output_type": "display_data"
    }
   ],
   "source": [
    "# Chi-squared test\n",
    "anova(model3, test = \"Chisq\")"
   ]
  },
  {
   "cell_type": "code",
   "execution_count": 8,
   "id": "aa8a3ba0",
   "metadata": {},
   "outputs": [
    {
     "data": {
      "text/html": [
       "<table class=\"dataframe\">\n",
       "<caption>A anova: 3 × 4</caption>\n",
       "<thead>\n",
       "\t<tr><th></th><th scope=col>Resid. Df</th><th scope=col>Resid. Dev</th><th scope=col>Df</th><th scope=col>Deviance</th></tr>\n",
       "\t<tr><th></th><th scope=col>&lt;dbl&gt;</th><th scope=col>&lt;dbl&gt;</th><th scope=col>&lt;dbl&gt;</th><th scope=col>&lt;dbl&gt;</th></tr>\n",
       "</thead>\n",
       "<tbody>\n",
       "\t<tr><th scope=row>1</th><td>965</td><td>918.7715</td><td>NA</td><td>        NA</td></tr>\n",
       "\t<tr><th scope=row>2</th><td>965</td><td>918.4379</td><td> 0</td><td> 0.3335978</td></tr>\n",
       "\t<tr><th scope=row>3</th><td>965</td><td>920.9142</td><td> 0</td><td>-2.4763173</td></tr>\n",
       "</tbody>\n",
       "</table>\n"
      ],
      "text/latex": [
       "A anova: 3 × 4\n",
       "\\begin{tabular}{r|llll}\n",
       "  & Resid. Df & Resid. Dev & Df & Deviance\\\\\n",
       "  & <dbl> & <dbl> & <dbl> & <dbl>\\\\\n",
       "\\hline\n",
       "\t1 & 965 & 918.7715 & NA &         NA\\\\\n",
       "\t2 & 965 & 918.4379 &  0 &  0.3335978\\\\\n",
       "\t3 & 965 & 920.9142 &  0 & -2.4763173\\\\\n",
       "\\end{tabular}\n"
      ],
      "text/markdown": [
       "\n",
       "A anova: 3 × 4\n",
       "\n",
       "| <!--/--> | Resid. Df &lt;dbl&gt; | Resid. Dev &lt;dbl&gt; | Df &lt;dbl&gt; | Deviance &lt;dbl&gt; |\n",
       "|---|---|---|---|---|\n",
       "| 1 | 965 | 918.7715 | NA |         NA |\n",
       "| 2 | 965 | 918.4379 |  0 |  0.3335978 |\n",
       "| 3 | 965 | 920.9142 |  0 | -2.4763173 |\n",
       "\n"
      ],
      "text/plain": [
       "  Resid. Df Resid. Dev Df Deviance  \n",
       "1 965       918.7715   NA         NA\n",
       "2 965       918.4379    0  0.3335978\n",
       "3 965       920.9142    0 -2.4763173"
      ]
     },
     "metadata": {},
     "output_type": "display_data"
    }
   ],
   "source": [
    "# Compare models\n",
    "anova(model1, model2, model3)"
   ]
  }
 ],
 "metadata": {
  "kernelspec": {
   "display_name": "R",
   "language": "R",
   "name": "ir"
  },
  "language_info": {
   "codemirror_mode": "r",
   "file_extension": ".r",
   "mimetype": "text/x-r-source",
   "name": "R",
   "pygments_lexer": "r",
   "version": "4.1.0"
  }
 },
 "nbformat": 4,
 "nbformat_minor": 5
}
