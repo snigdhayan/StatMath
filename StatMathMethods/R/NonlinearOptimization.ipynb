{
 "cells": [
  {
   "cell_type": "code",
   "execution_count": 1,
   "id": "fb1263da",
   "metadata": {},
   "outputs": [
    {
     "name": "stderr",
     "output_type": "stream",
     "text": [
      "Warning message:\n",
      "\"package 'ROI' was built under R version 3.6.3\"ROI: R Optimization Infrastructure\n",
      "Registered solver plugins: nlminb, alabama.\n",
      "Default solver: auto.\n",
      "Warning message:\n",
      "\"package 'ROI.plugin.alabama' was built under R version 3.6.3\""
     ]
    }
   ],
   "source": [
    "# Load libraries\n",
    "library(ROI)\n",
    "library(ROI.plugin.alabama)"
   ]
  },
  {
   "cell_type": "markdown",
   "id": "fadbf654",
   "metadata": {},
   "source": [
    "Maximize the following nonlinear objective function with $3$ continuous variables\n",
    "\n",
    "F_objective: $x_2x_3 - x_1x_3 + x_1x_2$\n",
    " \n",
    "subject to $1$ constraint of nonlinear type \n",
    "\n",
    "F_constraint: $x_1 - 57x_1x_2 - 28x_2x_3 \\geq 50000$ \n",
    "\n",
    "and $3$ lower and $3$ upper non-standard variable bounds\n",
    "\n",
    "1. $x_1 \\in [-10, 10]$, \n",
    "2. $x_2 \\in [-50, 50]$ and \n",
    "3. $x_3 \\in [-100, 100]$."
   ]
  },
  {
   "cell_type": "code",
   "execution_count": 2,
   "id": "04a239e2",
   "metadata": {},
   "outputs": [],
   "source": [
    "# Formulate the nonlinear problem\n",
    "problem <- OP(objective = F_objective(F = function(x) {prod(x[-1]) - prod(x[-2]) + prod(x[-3])}, \n",
    "                                      n = 3),\n",
    "              constraints = F_constraint(F = function(x) {x[1] - 57*x[1]*x[2] - 28*x[2]*x[3]}, \n",
    "                                         dir = \">=\", \n",
    "                                         rhs = 50000,\n",
    "                                         J = function(x) c(1 - 57*x[2], -57*x[1] - 28*x[3], -28*x[2])), \n",
    "                                         # J = Jacobian of F_constraint\n",
    "              bounds = V_bound(lb = c(-10, -50, -100), \n",
    "                               ub = c(10, 50, 100), \n",
    "                               nobj = 3L),\n",
    "              maximum = TRUE)"
   ]
  },
  {
   "cell_type": "code",
   "execution_count": 3,
   "id": "ccf28234",
   "metadata": {},
   "outputs": [
    {
     "data": {
      "text/plain": [
       "Optimal solution found.\n",
       "The objective value is: -1.432641e+03"
      ]
     },
     "metadata": {},
     "output_type": "display_data"
    },
    {
     "name": "stdout",
     "output_type": "stream",
     "text": [
      "[1] \"x1 = -9.99984130195456\" \"x2 = 49.387422581947\"   \"x3 = -15.8076797802575\"\n"
     ]
    }
   ],
   "source": [
    "# Solve and print result\n",
    "solution <- ROI_solve(problem, solver = \"alabama\", start = c(0, 0, 0))\n",
    "solution\n",
    "\n",
    "print(paste(c(\"x1 =\", \"x2 =\", \"x3 =\"), solution$solution))"
   ]
  }
 ],
 "metadata": {
  "kernelspec": {
   "display_name": "R",
   "language": "R",
   "name": "ir"
  },
  "language_info": {
   "codemirror_mode": "r",
   "file_extension": ".r",
   "mimetype": "text/x-r-source",
   "name": "R",
   "pygments_lexer": "r",
   "version": "3.6.1"
  }
 },
 "nbformat": 4,
 "nbformat_minor": 5
}
