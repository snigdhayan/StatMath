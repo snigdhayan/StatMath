{
 "cells": [
  {
   "cell_type": "markdown",
   "id": "6400a65b",
   "metadata": {},
   "source": [
    "# Law of Large Numbers\n",
    "## Author: Snigdhayan Mahanta\n",
    "\n",
    "Suppose an experiment has a finite discrete set of numerical outcomes, e.g., the roll of a die. Each outcome has an associated probability, so that based on this information one can compute the `expected value` of the experiment. Suppose one repeats the experiment a certain number of times (say $n$) and computes the average value $X_n$ out the outcomes based on that. The `Law of Large Numbers` in its weak form states that as $n$ tends to infinity, the value $X_n$ converges to the `expected value`. Here the term \"convergence\" has a precise mathematical formulation that I will skip here.\n",
    "\n",
    "I illustrated this phenomenon with the help of a simple experiment below."
   ]
  },
  {
   "cell_type": "code",
   "execution_count": 1,
   "id": "d6b8471e",
   "metadata": {},
   "outputs": [],
   "source": [
    "# Experiment information - outcomes and the probability distribution\n",
    "outcomes <- c(1:10) # the vector of outcomes\n",
    "vec <- sample(c(1:1000), size=length(outcomes), replace=TRUE)\n",
    "prob_distn <- vec/sum(vec) # the associated probability distribution"
   ]
  },
  {
   "cell_type": "code",
   "execution_count": 2,
   "id": "590ea5c8",
   "metadata": {},
   "outputs": [
    {
     "name": "stdout",
     "output_type": "stream",
     "text": [
      "[1] \"Probability distribution of the outcomes:\"\n",
      "$`Probability of 1 =`\n",
      "[1] \"Probability of 1 =\" \"0.07\"              \n",
      "\n",
      "$`Probability of 2 =`\n",
      "[1] \"Probability of 2 =\" \"0.15\"              \n",
      "\n",
      "$`Probability of 3 =`\n",
      "[1] \"Probability of 3 =\" \"0.15\"              \n",
      "\n",
      "$`Probability of 4 =`\n",
      "[1] \"Probability of 4 =\" \"0.16\"              \n",
      "\n",
      "$`Probability of 5 =`\n",
      "[1] \"Probability of 5 =\" \"0.12\"              \n",
      "\n",
      "$`Probability of 6 =`\n",
      "[1] \"Probability of 6 =\" \"0.02\"              \n",
      "\n",
      "$`Probability of 7 =`\n",
      "[1] \"Probability of 7 =\" \"0.03\"              \n",
      "\n",
      "$`Probability of 8 =`\n",
      "[1] \"Probability of 8 =\" \"0.03\"              \n",
      "\n",
      "$`Probability of 9 =`\n",
      "[1] \"Probability of 9 =\" \"0.15\"              \n",
      "\n",
      "$`Probability of 10 =`\n",
      "[1] \"Probability of 10 =\" \"0.13\"               \n",
      "\n"
     ]
    }
   ],
   "source": [
    "# Print the probability distribution\n",
    "print(\"Probability distribution of the outcomes:\")\n",
    "prob_distn_table <- mapply(c, \n",
    "                           paste(\"Probability of\", outcomes, \"=\", sep=\" \"), \n",
    "                           round(prob_distn, 2), \n",
    "                           SIMPLIFY = FALSE)\n",
    "print(prob_distn_table)"
   ]
  },
  {
   "cell_type": "code",
   "execution_count": 3,
   "id": "b2bce192",
   "metadata": {},
   "outputs": [
    {
     "name": "stdout",
     "output_type": "stream",
     "text": [
      "[1] \"Accuracy of the outcomes (distribution of values as fraction):\"\n",
      "distributionTable\n",
      "   1    2    3    4    5    6    7    8    9   10 \n",
      "0.07 0.14 0.15 0.15 0.13 0.02 0.03 0.02 0.15 0.13 \n"
     ]
    }
   ],
   "source": [
    "# Check the accuracy of the outcomes - do the outcomes align with the specified probability distribution?\n",
    "trialLength <- 10000\n",
    "distributionTable <- integer(trialLength)\n",
    "\n",
    "for (i in c(1:trialLength)) {\n",
    "    distributionTable[i] <- sample(outcomes, size=1, prob=prob_distn, replace=TRUE)\n",
    "}\n",
    "\n",
    "accuracy <- round(table(distributionTable)/trialLength, 2)\n",
    "print(\"Accuracy of the outcomes (distribution of values as fraction):\")\n",
    "print(accuracy) # there can be a slight discrepancy due to the rounding of the values"
   ]
  },
  {
   "cell_type": "code",
   "execution_count": 4,
   "id": "0920170e",
   "metadata": {},
   "outputs": [
    {
     "data": {
      "text/html": [
       "5.22176422093982"
      ],
      "text/latex": [
       "5.22176422093982"
      ],
      "text/markdown": [
       "5.22176422093982"
      ],
      "text/plain": [
       "[1] 5.221764"
      ]
     },
     "metadata": {},
     "output_type": "display_data"
    }
   ],
   "source": [
    "# Compute the expected value\n",
    "expectation <- sum(outcomes*prob_distn)\n",
    "expectation"
   ]
  },
  {
   "cell_type": "code",
   "execution_count": 5,
   "id": "aadf3dcf",
   "metadata": {},
   "outputs": [],
   "source": [
    "# Define a function to compute the average for a certain number of trials\n",
    "compute_avg <- function(n_trials, outcomes, prob_distn) {\n",
    "    trials <- integer(n_trials)\n",
    "    for (i in c(1:n_trials)) {\n",
    "        trials[i] <- sample(outcomes, size=1, prob = prob_distn, replace=TRUE)\n",
    "    }\n",
    "    avg <- sum(trials)/length(trials)\n",
    "    return(avg)\n",
    "}"
   ]
  },
  {
   "cell_type": "code",
   "execution_count": 6,
   "id": "149107b6",
   "metadata": {},
   "outputs": [
    {
     "data": {
      "text/html": [
       "0.0117642209398188"
      ],
      "text/latex": [
       "0.0117642209398188"
      ],
      "text/markdown": [
       "0.0117642209398188"
      ],
      "text/plain": [
       "[1] 0.01176422"
      ]
     },
     "metadata": {},
     "output_type": "display_data"
    }
   ],
   "source": [
    "# First check - number of trials = 100\n",
    "error1 <- abs(expectation - compute_avg(100, outcomes, prob_distn))\n",
    "error1"
   ]
  },
  {
   "cell_type": "code",
   "execution_count": 7,
   "id": "53f9e79b",
   "metadata": {},
   "outputs": [
    {
     "data": {
      "text/html": [
       "0.00423577906018124"
      ],
      "text/latex": [
       "0.00423577906018124"
      ],
      "text/markdown": [
       "0.00423577906018124"
      ],
      "text/plain": [
       "[1] 0.004235779"
      ]
     },
     "metadata": {},
     "output_type": "display_data"
    }
   ],
   "source": [
    "# Second check - number of trials = 1000\n",
    "error2 <- abs(expectation - compute_avg(1000, outcomes, prob_distn))\n",
    "error2"
   ]
  },
  {
   "cell_type": "code",
   "execution_count": 8,
   "id": "a45ee2aa",
   "metadata": {},
   "outputs": [
    {
     "data": {
      "text/html": [
       "0.0494357790601816"
      ],
      "text/latex": [
       "0.0494357790601816"
      ],
      "text/markdown": [
       "0.0494357790601816"
      ],
      "text/plain": [
       "[1] 0.04943578"
      ]
     },
     "metadata": {},
     "output_type": "display_data"
    }
   ],
   "source": [
    "# Third check - number of trials = 10000\n",
    "error3 <- abs(expectation - compute_avg(10000, outcomes, prob_distn))\n",
    "error3"
   ]
  },
  {
   "cell_type": "code",
   "execution_count": 9,
   "id": "51bb1097",
   "metadata": {},
   "outputs": [
    {
     "data": {
      "text/html": [
       "0.00895577906018108"
      ],
      "text/latex": [
       "0.00895577906018108"
      ],
      "text/markdown": [
       "0.00895577906018108"
      ],
      "text/plain": [
       "[1] 0.008955779"
      ]
     },
     "metadata": {},
     "output_type": "display_data"
    }
   ],
   "source": [
    "# Fourth check - number of trials = 100000\n",
    "error4 <- abs(expectation - compute_avg(100000, outcomes, prob_distn))\n",
    "error4"
   ]
  },
  {
   "cell_type": "code",
   "execution_count": 10,
   "id": "49bd012c",
   "metadata": {},
   "outputs": [],
   "source": [
    "# Compute the error as a function of the number of trials\n",
    "range <- 100\n",
    "error_vector <- numeric(range)\n",
    "\n",
    "for (i in c(1:range)) {\n",
    "    error_vector[i] <- abs(expectation - compute_avg(i*1000, outcomes, prob_distn))\n",
    "}"
   ]
  },
  {
   "cell_type": "code",
   "execution_count": 11,
   "id": "3ff0c6fb",
   "metadata": {},
   "outputs": [
    {
     "data": {
      "image/png": "[encoded data removed]",
      "text/plain": [
       "Plot with title \"Absolute Value of Error as a Function\""
      ]
     },
     "metadata": {
      "image/png": {
       "height": 420,
       "width": 420
      }
     },
     "output_type": "display_data"
    }
   ],
   "source": [
    "# Plot the error as a function of the number of trials\n",
    "plot(error_vector, \n",
    "     main=\"Absolute Value of Error as a Function\", \n",
    "     xlab=\"Number of Trials\", \n",
    "     ylab=\"Absolute Value of Error\")"
   ]
  },
  {
   "cell_type": "markdown",
   "id": "5287f63a",
   "metadata": {},
   "source": [
    "Observe how the absolute value of the error tends to decrease as the number of trials increases."
   ]
  }
 ],
 "metadata": {
  "kernelspec": {
   "display_name": "R",
   "language": "R",
   "name": "ir"
  },
  "language_info": {
   "codemirror_mode": "r",
   "file_extension": ".r",
   "mimetype": "text/x-r-source",
   "name": "R",
   "pygments_lexer": "r",
   "version": "4.1.0"
  }
 },
 "nbformat": 4,
 "nbformat_minor": 5
}
