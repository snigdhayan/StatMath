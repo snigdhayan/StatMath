{
 "cells": [
  {
   "cell_type": "markdown",
   "id": "f23171c8",
   "metadata": {},
   "source": [
    "# Law of Large Numbers\n",
    "## Author: Snigdhayan Mahanta\n",
    "\n",
    "Suppose an experiment has a finite discrete set of numerical outcomes, e.g., the roll of a die. Suppose further that each outcome has an associated probability, so that based on this information one can compute the `expected value` of the experiment. Suppose one repeats the experiment a certain number of times (say $n$) and computes the average value of the outcomes (denoted by $X_n$). Then the `Law of Large Numbers` in its weak form states that as $n$ tends to infinity, the value $X_n$ converges to the `expected value`. The term \"convergence\" has a precise mathematical formulation that I will skip here.\n",
    "\n",
    "I illustrated this phenomenon with the help of a simple experiment below."
   ]
  },
  {
   "cell_type": "code",
   "execution_count": 1,
   "id": "d6b8471e",
   "metadata": {},
   "outputs": [],
   "source": [
    "# Experiment information - outcomes and the probability distribution\n",
    "outcomes <- c(1:10) # the vector of outcomes\n",
    "vec <- sample(c(1:1000), size=length(outcomes), replace=TRUE)\n",
    "prob_distn <- vec/sum(vec) # the associated probability distribution"
   ]
  },
  {
   "cell_type": "code",
   "execution_count": 2,
   "id": "b2bce192",
   "metadata": {},
   "outputs": [
    {
     "data": {
      "text/html": [
       "<table class=\"dataframe\">\n",
       "<caption>A matrix: 10 × 3 of type dbl</caption>\n",
       "<thead>\n",
       "\t<tr><th scope=col>Outcome</th><th scope=col>Computed Probability</th><th scope=col>Actual Probability</th></tr>\n",
       "</thead>\n",
       "<tbody>\n",
       "\t<tr><td> 1</td><td>0.06</td><td>0.06</td></tr>\n",
       "\t<tr><td> 2</td><td>0.18</td><td>0.17</td></tr>\n",
       "\t<tr><td> 3</td><td>0.06</td><td>0.06</td></tr>\n",
       "\t<tr><td> 4</td><td>0.12</td><td>0.12</td></tr>\n",
       "\t<tr><td> 5</td><td>0.09</td><td>0.09</td></tr>\n",
       "\t<tr><td> 6</td><td>0.13</td><td>0.13</td></tr>\n",
       "\t<tr><td> 7</td><td>0.10</td><td>0.10</td></tr>\n",
       "\t<tr><td> 8</td><td>0.03</td><td>0.04</td></tr>\n",
       "\t<tr><td> 9</td><td>0.07</td><td>0.07</td></tr>\n",
       "\t<tr><td>10</td><td>0.16</td><td>0.16</td></tr>\n",
       "</tbody>\n",
       "</table>\n"
      ],
      "text/latex": [
       "A matrix: 10 × 3 of type dbl\n",
       "\\begin{tabular}{lll}\n",
       " Outcome & Computed Probability & Actual Probability\\\\\n",
       "\\hline\n",
       "\t  1 & 0.06 & 0.06\\\\\n",
       "\t  2 & 0.18 & 0.17\\\\\n",
       "\t  3 & 0.06 & 0.06\\\\\n",
       "\t  4 & 0.12 & 0.12\\\\\n",
       "\t  5 & 0.09 & 0.09\\\\\n",
       "\t  6 & 0.13 & 0.13\\\\\n",
       "\t  7 & 0.10 & 0.10\\\\\n",
       "\t  8 & 0.03 & 0.04\\\\\n",
       "\t  9 & 0.07 & 0.07\\\\\n",
       "\t 10 & 0.16 & 0.16\\\\\n",
       "\\end{tabular}\n"
      ],
      "text/markdown": [
       "\n",
       "A matrix: 10 × 3 of type dbl\n",
       "\n",
       "| Outcome | Computed Probability | Actual Probability |\n",
       "|---|---|---|\n",
       "|  1 | 0.06 | 0.06 |\n",
       "|  2 | 0.18 | 0.17 |\n",
       "|  3 | 0.06 | 0.06 |\n",
       "|  4 | 0.12 | 0.12 |\n",
       "|  5 | 0.09 | 0.09 |\n",
       "|  6 | 0.13 | 0.13 |\n",
       "|  7 | 0.10 | 0.10 |\n",
       "|  8 | 0.03 | 0.04 |\n",
       "|  9 | 0.07 | 0.07 |\n",
       "| 10 | 0.16 | 0.16 |\n",
       "\n"
      ],
      "text/plain": [
       "      Outcome Computed Probability Actual Probability\n",
       " [1,]  1      0.06                 0.06              \n",
       " [2,]  2      0.18                 0.17              \n",
       " [3,]  3      0.06                 0.06              \n",
       " [4,]  4      0.12                 0.12              \n",
       " [5,]  5      0.09                 0.09              \n",
       " [6,]  6      0.13                 0.13              \n",
       " [7,]  7      0.10                 0.10              \n",
       " [8,]  8      0.03                 0.04              \n",
       " [9,]  9      0.07                 0.07              \n",
       "[10,] 10      0.16                 0.16              "
      ]
     },
     "metadata": {},
     "output_type": "display_data"
    }
   ],
   "source": [
    "# Verify if the outcomes conform with the probability distribution\n",
    "trialLength <- 10000 # the number of trials for the verification\n",
    "distributionTable <- integer(trialLength)\n",
    "\n",
    "for (i in c(1:trialLength)) {\n",
    "    distributionTable[i] <- sample(outcomes, size=1, prob=prob_distn, replace=TRUE)\n",
    "}\n",
    "\n",
    "\n",
    "computed_prob <- round(table(distributionTable)/trialLength, 2)\n",
    "computed_prob_df <- cbind(\"Outcome\"=outcomes, \n",
    "                          \"Computed Probability\"=as.numeric(computed_prob),\n",
    "                          \"Actual Probability\"=round(prob_distn, 2))\n",
    "computed_prob_df # there can be a slight discrepancy due to the rounding of the values"
   ]
  },
  {
   "cell_type": "code",
   "execution_count": 3,
   "id": "0920170e",
   "metadata": {},
   "outputs": [
    {
     "data": {
      "text/html": [
       "5.5503285151117"
      ],
      "text/latex": [
       "5.5503285151117"
      ],
      "text/markdown": [
       "5.5503285151117"
      ],
      "text/plain": [
       "[1] 5.550329"
      ]
     },
     "metadata": {},
     "output_type": "display_data"
    }
   ],
   "source": [
    "# Compute the expected value\n",
    "expected_value <- sum(outcomes*prob_distn)\n",
    "expected_value"
   ]
  },
  {
   "cell_type": "code",
   "execution_count": 4,
   "id": "aadf3dcf",
   "metadata": {},
   "outputs": [],
   "source": [
    "# Define a function to compute the average for a certain number of trials\n",
    "compute_avg <- function(n_trials, outcomes, prob_distn) {\n",
    "    trials <- integer(n_trials)\n",
    "    for (i in c(1:n_trials)) {\n",
    "        trials[i] <- sample(outcomes, size=1, prob = prob_distn, replace=TRUE)\n",
    "    }\n",
    "    avg <- sum(trials)/length(trials)\n",
    "    return(avg)\n",
    "}"
   ]
  },
  {
   "cell_type": "code",
   "execution_count": 5,
   "id": "149107b6",
   "metadata": {},
   "outputs": [
    {
     "data": {
      "text/html": [
       "0.510328515111695"
      ],
      "text/latex": [
       "0.510328515111695"
      ],
      "text/markdown": [
       "0.510328515111695"
      ],
      "text/plain": [
       "[1] 0.5103285"
      ]
     },
     "metadata": {},
     "output_type": "display_data"
    }
   ],
   "source": [
    "# First check - number of trials = 100\n",
    "error1 <- abs(expected_value - compute_avg(100, outcomes, prob_distn))\n",
    "error1"
   ]
  },
  {
   "cell_type": "code",
   "execution_count": 6,
   "id": "53f9e79b",
   "metadata": {},
   "outputs": [
    {
     "data": {
      "text/html": [
       "0.000871484888304686"
      ],
      "text/latex": [
       "0.000871484888304686"
      ],
      "text/markdown": [
       "0.000871484888304686"
      ],
      "text/plain": [
       "[1] 0.0008714849"
      ]
     },
     "metadata": {},
     "output_type": "display_data"
    }
   ],
   "source": [
    "# Second check - number of trials = 10000\n",
    "error2 <- abs(expected_value - compute_avg(10000, outcomes, prob_distn))\n",
    "error2"
   ]
  },
  {
   "cell_type": "code",
   "execution_count": 7,
   "id": "49bd012c",
   "metadata": {},
   "outputs": [],
   "source": [
    "# Compute the absolute value of error as a function of the number of trials\n",
    "range <- seq(from=100, to=10000, by=10)\n",
    "error_vector <- numeric(length(range))\n",
    "index <- 1\n",
    "\n",
    "for (n in range) {\n",
    "    error_vector[index] <- abs(expected_value - compute_avg(n, outcomes, prob_distn))\n",
    "    index = index+1\n",
    "}"
   ]
  },
  {
   "cell_type": "code",
   "execution_count": 8,
   "id": "3ff0c6fb",
   "metadata": {},
   "outputs": [
    {
     "data": {
      "image/png": "[encoded data removed]",
      "text/plain": [
       "Plot with title \"Absolute Value of Error as a Function\""
      ]
     },
     "metadata": {
      "image/png": {
       "height": 420,
       "width": 420
      }
     },
     "output_type": "display_data"
    }
   ],
   "source": [
    "# Plot the error as a function of the number of trials\n",
    "plot(x = range,\n",
    "     y = error_vector,\n",
    "     type=\"l\",\n",
    "     main=\"Absolute Value of Error as a Function\", \n",
    "     xlab=\"Number of Trials\", \n",
    "     ylab=\"Absolute Value of Error\")"
   ]
  },
  {
   "cell_type": "markdown",
   "id": "5287f63a",
   "metadata": {},
   "source": [
    "Observe how the absolute value of the error tends to decrease as the number of trials increases."
   ]
  }
 ],
 "metadata": {
  "kernelspec": {
   "display_name": "R",
   "language": "R",
   "name": "ir"
  },
  "language_info": {
   "codemirror_mode": "r",
   "file_extension": ".r",
   "mimetype": "text/x-r-source",
   "name": "R",
   "pygments_lexer": "r",
   "version": "4.1.0"
  }
 },
 "nbformat": 4,
 "nbformat_minor": 5
}
