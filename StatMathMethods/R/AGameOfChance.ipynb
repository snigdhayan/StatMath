{
 "cells": [
  {
   "cell_type": "markdown",
   "id": "9c4f0f0f",
   "metadata": {},
   "source": [
    "# A Game of Chance\n",
    "## Author: Snigdhayan Mahanta\n",
    "\n",
    "When I started to learn programming in `R`, I tried to solve a few elementary probability problems with it. Here is one such example, whose answer can actually be found easily by direct manual computation (high school probability). Suppose there is a fair die and two players (1 and 2) are playing a game with it. The game ends with a winner if either player 1 rolls the die and 1 turns up on top (player 1 wins) or player 2 rolls the die and 2 turns up on top (player 2 wins). Players 1 and 2 roll the die alternatively with player 1 starting the game. The game continues until one player wins. What is the probability of winning of player 1? \n",
    "\n",
    "A manual computational strategy would be to divide the space of outcomes into disjoint pieces according to the lengths of the games and then to compute the probability of winning of player 1 in each case. Finally, using the additivity of probability for disjoint events, the sum of the probabilities would give the right answer. Here I directly simulated the game with `R` and approximately found the right answer."
   ]
  },
  {
   "cell_type": "code",
   "execution_count": 1,
   "id": "d6b8471e",
   "metadata": {},
   "outputs": [],
   "source": [
    "# Context information\n",
    "die <- c(1:6) # definition of a die\n",
    "trials <- 10000 # total no. of trials of the game\n",
    "winCounter <- 0 # the no. of times player 1 has won the game\n",
    "gameLength <- integer(trials) # the length of each game"
   ]
  },
  {
   "cell_type": "code",
   "execution_count": 2,
   "id": "b2bce192",
   "metadata": {},
   "outputs": [
    {
     "name": "stdout",
     "output_type": "stream",
     "text": [
      "[1] \"Fairness of the die (distribution of values as percentage):\"\n",
      "distributionTable\n",
      "    1     2     3     4     5     6 \n",
      "16.72 15.68 17.19 17.02 16.45 16.94 \n"
     ]
    }
   ],
   "source": [
    "# Check the fairness of the die\n",
    "trialLength <- 10000\n",
    "distributionTable <- integer(trialLength)\n",
    "\n",
    "for (i in c(1:trialLength)) {distributionTable[i] <- sample(die,size=1,replace=TRUE)}\n",
    "\n",
    "fairness <- round(table(distributionTable)/trialLength*100,2)\n",
    "print(\"Fairness of the die (distribution of values as percentage):\")\n",
    "print(fairness)"
   ]
  },
  {
   "cell_type": "code",
   "execution_count": 3,
   "id": "aadf3dcf",
   "metadata": {},
   "outputs": [],
   "source": [
    "# Play one round with players 1 and 2\n",
    "play <- function() {\n",
    "  x <- sample(die,size=1,replace=TRUE)\n",
    "  if (x==1) return(x)\n",
    "  y <- sample(die,size=1,replace=TRUE)\n",
    "  if (y==2) return(y)\n",
    "}"
   ]
  },
  {
   "cell_type": "code",
   "execution_count": 4,
   "id": "d0aacbb8",
   "metadata": {},
   "outputs": [],
   "source": [
    "# Keep playing until the game ends with a winner\n",
    "game <- function() {\n",
    "  number <- 1\n",
    "  outcome <- integer(2)\n",
    "  while (TRUE) {\n",
    "    result <- play()\n",
    "    outcome[2] <- number\n",
    "    if (is.null(result)==FALSE) {\n",
    "      outcome[1] <- result\n",
    "      return(outcome)\n",
    "    }\n",
    "    else {\n",
    "      number <- number + 1\n",
    "      }\n",
    "    }\n",
    "}"
   ]
  },
  {
   "cell_type": "code",
   "execution_count": 5,
   "id": "e574775b",
   "metadata": {},
   "outputs": [],
   "source": [
    "# Count the number of games that player 1 has won\n",
    "for (i in c(1:trials)) {\n",
    "  outcome <- game()\n",
    "  gameLength[i] <- outcome[2]\n",
    "  if (outcome[1]==1) {winCounter <- winCounter + 1}\n",
    "}"
   ]
  },
  {
   "cell_type": "code",
   "execution_count": 6,
   "id": "6119bb2d",
   "metadata": {},
   "outputs": [
    {
     "name": "stdout",
     "output_type": "stream",
     "text": [
      "[1] \"Probability of winning of player 1: 0.5459\"\n",
      "[1] \"Frequency distribution of the number of trials needed for the game to end:\"\n",
      "gameLength\n",
      "   1    2    3    4    5    6    7    8    9   10   11   12   13   14   15   16 \n",
      "3099 2114 1446 1065  705  430  352  241  164  115   74   66   45   30   19    9 \n",
      "  17   18   19   20   21   22   23   29 \n",
      "   8    3    4    3    4    1    2    1 \n"
     ]
    }
   ],
   "source": [
    "# Compute the probability and show the frequency table of lengths of games\n",
    "probability <- winCounter/trials\n",
    "print(paste0(\"Probability of winning of player 1: \", probability))\n",
    "\n",
    "frequency_table <- table(gameLength)\n",
    "print(\"Frequency distribution of the number of trials needed for the game to end:\")\n",
    "print(frequency_table)"
   ]
  },
  {
   "cell_type": "markdown",
   "id": "b4d692f7",
   "metadata": {},
   "source": [
    "Observe that player 1 has a slight advantage; player 1 starts the game and in each round has the \"first-mover advantage\"."
   ]
  }
 ],
 "metadata": {
  "kernelspec": {
   "display_name": "R",
   "language": "R",
   "name": "ir"
  },
  "language_info": {
   "codemirror_mode": "r",
   "file_extension": ".r",
   "mimetype": "text/x-r-source",
   "name": "R",
   "pygments_lexer": "r",
   "version": "4.0.5"
  }
 },
 "nbformat": 4,
 "nbformat_minor": 5
}
