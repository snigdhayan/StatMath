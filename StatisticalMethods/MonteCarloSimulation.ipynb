{
 "cells": [
  {
   "cell_type": "markdown",
   "id": "1d331e55",
   "metadata": {},
   "source": [
    "# Monte Carlo Simulation\n",
    "## Author: Snigdhayan Mahanta\n",
    "\n",
    "I created a sample supply chain network. The network consists of a few `tiers`; each organization belongs to a tier and has a (potentially empty) list of `suppliers` and `customers`. In each tier a few organizations compete against each other to procure materials form the organizations in the previous tier and supply to the organizations in the next tier. A `demand` parameter controls the rate at which they purchase and supply. The financial performances of the companies are measured in terms of `capital`, `expense` and `revenue`. The network can be created flexibly and visualized via `NetworkX`. I used `tensorflow probability` to perform `Monte Carlo Simulation` and to compute the expected profit margin of the entire network based on varying demand."
   ]
  },
  {
   "cell_type": "code",
   "execution_count": 1,
   "id": "6a3e73e1",
   "metadata": {},
   "outputs": [],
   "source": [
    "import networkx as nx\n",
    "import tensorflow as tf\n",
    "import tensorflow_probability as tfp\n",
    "import numpy as np\n",
    "import matplotlib.pyplot as plt\n",
    "\n",
    "tfd = tfp.distributions"
   ]
  },
  {
   "cell_type": "code",
   "execution_count": 2,
   "id": "c997efc7",
   "metadata": {},
   "outputs": [],
   "source": [
    "# Class definition of 'Organization'\n",
    "class Organization:\n",
    "    '''\n",
    "    An organization's performance is measured by its capital, expense and revenue\n",
    "    \n",
    "    '''\n",
    "    \n",
    "    def __init__(self, tier, id, capital, expense, revenue, suppliers, customers):\n",
    "        self.tier = tier\n",
    "        self.id = id\n",
    "        self.capital = capital\n",
    "        self.expense = expense\n",
    "        self.revenue = revenue\n",
    "        self.suppliers = suppliers\n",
    "        self.customers = customers\n",
    "\n",
    "    \n",
    "    @property\n",
    "    def label(self):\n",
    "        return \"T\"+str(self.tier)+\"_O\"+str(self.id)\n",
    "        # return (self.tier, self.id)\n",
    "    \n",
    "    @property\n",
    "    def profit_margin(self):\n",
    "        if np.all((self.revenue > 0)): return (self.revenue - self.expense)/self.revenue\n",
    "        if np.all((self.revenue <= 0)): return None\n",
    "    \n",
    "    @property\n",
    "    def turnover_ratio(self):\n",
    "        if np.all((self.capital > 0)): return (self.revenue/self.capital)\n",
    "        if np.all((self.capital <= 0)): return None\n",
    "    \n",
    "    def get_tier(self):    \n",
    "        return self.tier\n",
    "    \n",
    "    def get_id(self):    \n",
    "        return self.id\n",
    "    \n",
    "    def get_capital(self):    \n",
    "        return self.capital\n",
    "       \n",
    "    def get_expense(self):    \n",
    "        return self.expense\n",
    "        \n",
    "    def get_revenue(self):    \n",
    "        return self.revenue\n",
    "    \n",
    "    def get_suppliers(self):    \n",
    "        return self.suppliers\n",
    "    \n",
    "    def get_customers(self):    \n",
    "        return self.customers\n",
    " \n",
    "    def purchase(self, demand): # demand governs procurement\n",
    "        for x in self.suppliers:\n",
    "            amount = demand*x.capital\n",
    "            if np.all((self.capital - amount >= 0)):\n",
    "                self.capital += -amount\n",
    "                self.expense += amount\n",
    "                x.revenue += amount\n",
    "            \n",
    "    def operate(self, demand): # demand governs the change in the financial parameters\n",
    "        if np.all((self.capital + demand*self.capital >= 0)): self.capital += demand*self.capital\n",
    "        if np.all((self.expense + demand*self.expense >= 0)): self.expense += demand*self.expense\n",
    "        if np.all((self.revenue + demand*self.revenue >= 0)): self.revenue += demand*self.revenue\n",
    "            \n",
    "    def supply(self, demand): # demand governs the supply\n",
    "        for x in self.customers:\n",
    "            amount = demand*x.revenue\n",
    "            self.revenue += amount\n",
    "            x.expense += amount\n",
    "             \n",
    "    def add_supplier(self, organization):\n",
    "        self.suppliers.append(organization)\n",
    "        \n",
    "    def add_customer(self, organization):\n",
    "        self.customers.append(organization)"
   ]
  },
  {
   "cell_type": "code",
   "execution_count": 3,
   "id": "44096c94",
   "metadata": {},
   "outputs": [],
   "source": [
    "# Utility functions to create a supply chain network\n",
    "def create_tier(tier):\n",
    "    size = np.random.choice(range(2, 4))\n",
    "    tier_orgs = []\n",
    "    for i in range(1, size+1):\n",
    "        Capital = np.random.choice(a=range(1000, 100000)) # random initial capital\n",
    "        Expense = np.random.choice(a=range(1000, 100000)) # random initial expense\n",
    "        Revenue = np.random.choice(a=range(100, 10000)) # random initial revenue\n",
    "        Suppliers = []\n",
    "        Customers = []\n",
    "        org = Organization(tier, i, Capital, Expense, Revenue, Suppliers, Customers)\n",
    "        tier_orgs.append(org)\n",
    "    return tier_orgs\n",
    "        \n",
    "\n",
    "def create_network(n_tiers):\n",
    "    Network_orgs = []\n",
    "    for i in range(n_tiers):\n",
    "        tier = create_tier(i)\n",
    "        Network_orgs.append(tier)\n",
    "    \n",
    "    Edges = []\n",
    "    for j in range(n_tiers-1):\n",
    "        customers = Network_orgs[j]\n",
    "        suppliers = Network_orgs[j+1]\n",
    "    \n",
    "        for k in range(3, 5):\n",
    "            source = np.random.choice(suppliers, replace = True)\n",
    "            target = np.random.choice(customers, replace = True)\n",
    "            pair = (source.label, target.label)\n",
    "            Edges.append(pair) \n",
    "            source.add_customer(target) # create supplier-customer relationship\n",
    "            target.add_supplier(source) # create customer-supplier relationship      \n",
    "    \n",
    "    Network_orgs = [item for sublist in Network_orgs for item in sublist]\n",
    "    Edge_list = list(set(Edges))\n",
    "    return Network_orgs, Edge_list"
   ]
  },
  {
   "cell_type": "code",
   "execution_count": 4,
   "id": "c816dec9",
   "metadata": {},
   "outputs": [],
   "source": [
    "# Utility function to create a networkx directed graph\n",
    "def create_directed_graph(edges):\n",
    "    #edges = list(map(lambda x: tuple(x), Edges))\n",
    "    graph = nx.DiGraph()\n",
    "    graph.add_edges_from(edges)\n",
    "    return graph"
   ]
  },
  {
   "cell_type": "code",
   "execution_count": 5,
   "id": "49affd39",
   "metadata": {},
   "outputs": [
    {
     "data": {
      "image/png": "[encoded data removed]",
      "text/plain": [
       "<Figure size 432x288 with 1 Axes>"
      ]
     },
     "metadata": {},
     "output_type": "display_data"
    }
   ],
   "source": [
    "# Create and visualize a supply chain network\n",
    "N_tiers = 5 # No. of tiers in the network\n",
    "np.random.seed(7)\n",
    "Organizations, Edges = create_network(N_tiers)\n",
    "Graph = create_directed_graph(Edges)\n",
    "#nx.draw_kamada_kawai(Graph, with_labels=True, node_size=2000)\n",
    "nx.draw(Graph, pos=nx.spring_layout(Graph), with_labels=True, node_size=2000)"
   ]
  },
  {
   "cell_type": "code",
   "execution_count": 6,
   "id": "fea02743",
   "metadata": {},
   "outputs": [],
   "source": [
    "def printDict(dict):\n",
    "    for key, value in dict.items(): print (\"%s : %s\"%(key, value))"
   ]
  },
  {
   "cell_type": "code",
   "execution_count": 7,
   "id": "c33b9bf8",
   "metadata": {},
   "outputs": [
    {
     "name": "stdout",
     "output_type": "stream",
     "text": [
      "T1_O2 : 3.72\n",
      "T2_O2 : 2.13\n",
      "T3_O2 : 0.55\n",
      "T2_O3 : 0.19\n",
      "T4_O1 : 0.14\n",
      "T2_O1 : 0.13\n",
      "T1_O1 : 0.12\n",
      "T0_O1 : 0.1\n",
      "T3_O1 : 0.1\n",
      "T0_O3 : 0.08\n",
      "T0_O2 : 0.03\n",
      "T4_O2 : 0.02\n",
      "T3_O3 : 0.01\n"
     ]
    }
   ],
   "source": [
    "# Rank the organizations by turnover ratio\n",
    "org_labels = [org.label for org in Organizations]\n",
    "turnover_ratios = [round(org.turnover_ratio, 2) for org in Organizations]\n",
    "turnover_ratios = dict([t for t in zip(org_labels, turnover_ratios)])\n",
    "turnover_ratios = {k: v for k, v in sorted(turnover_ratios.items(), key=lambda item: item[1], reverse = True)}\n",
    "printDict(turnover_ratios)"
   ]
  },
  {
   "cell_type": "code",
   "execution_count": 8,
   "id": "eb3729a7",
   "metadata": {},
   "outputs": [
    {
     "name": "stdout",
     "output_type": "stream",
     "text": [
      "T3_O2 : -1.63\n",
      "T2_O2 : -1.98\n",
      "T3_O1 : -3.52\n",
      "T2_O3 : -4.73\n",
      "T2_O1 : -7.13\n",
      "T0_O1 : -7.74\n",
      "T4_O1 : -9.72\n",
      "T1_O2 : -10.57\n",
      "T1_O1 : -13.06\n",
      "T0_O3 : -14.22\n",
      "T0_O2 : -44.83\n",
      "T4_O2 : -45.89\n",
      "T3_O3 : -276.68\n"
     ]
    }
   ],
   "source": [
    "# Rank the organizations by profit margin\n",
    "# org_labels = [org.label for org in Organizations]\n",
    "profit_margins = [round(org.profit_margin, 2) for org in Organizations]\n",
    "profit_margins = dict([t for t in zip(org_labels, profit_margins)])\n",
    "profit_margins = {k: v for k, v in sorted(profit_margins.items(), key=lambda item: item[1], reverse = True)}\n",
    "printDict(profit_margins)"
   ]
  },
  {
   "cell_type": "code",
   "execution_count": 9,
   "id": "0021494b",
   "metadata": {},
   "outputs": [],
   "source": [
    "def one_round(organizations):\n",
    "    for x in organizations:\n",
    "        x.purchase(0.1)\n",
    "        x.operate(0.1)\n",
    "        x.supply(0.1)"
   ]
  },
  {
   "cell_type": "code",
   "execution_count": 10,
   "id": "6a0bef21",
   "metadata": {},
   "outputs": [],
   "source": [
    "for _ in range(10):\n",
    "    one_round(Organizations)"
   ]
  },
  {
   "cell_type": "code",
   "execution_count": 11,
   "id": "8aed7366",
   "metadata": {},
   "outputs": [
    {
     "name": "stdout",
     "output_type": "stream",
     "text": [
      "T1_O2 : 68.61\n",
      "T3_O2 : 17.99\n",
      "T2_O2 : 5.77\n",
      "T4_O2 : 1.97\n",
      "T3_O1 : 1.09\n",
      "T2_O1 : 0.37\n",
      "T2_O3 : 0.19\n",
      "T4_O1 : 0.14\n",
      "T1_O1 : 0.12\n",
      "T0_O1 : 0.1\n",
      "T0_O3 : 0.08\n",
      "T0_O2 : 0.03\n",
      "T3_O3 : 0.01\n"
     ]
    }
   ],
   "source": [
    "# Rank the organizations by turnover ratio again\n",
    "# org_labels = [org.label for org in Organizations]\n",
    "turnover_ratios = [round(org.turnover_ratio, 2) for org in Organizations]\n",
    "turnover_ratios = dict([t for t in zip(org_labels, turnover_ratios)])\n",
    "turnover_ratios = {k: v for k, v in sorted(turnover_ratios.items(), key=lambda item: item[1], reverse = True)}\n",
    "printDict(turnover_ratios)"
   ]
  },
  {
   "cell_type": "code",
   "execution_count": 12,
   "id": "f938945e",
   "metadata": {},
   "outputs": [
    {
     "name": "stdout",
     "output_type": "stream",
     "text": [
      "T4_O2 : 0.63\n",
      "T2_O2 : -1.5\n",
      "T3_O1 : -1.72\n",
      "T2_O1 : -1.89\n",
      "T3_O2 : -4.39\n",
      "T2_O3 : -4.73\n",
      "T1_O2 : -5.18\n",
      "T0_O1 : -8.87\n",
      "T4_O1 : -9.72\n",
      "T1_O1 : -13.06\n",
      "T0_O3 : -15.38\n",
      "T0_O2 : -44.83\n",
      "T3_O3 : -276.68\n"
     ]
    }
   ],
   "source": [
    "# Rank the organizations by profit margin again\n",
    "# org_labels = [org.label for org in Organizations]\n",
    "profit_margins = [round(org.profit_margin, 2) for org in Organizations]\n",
    "profit_margins = dict([t for t in zip(org_labels, profit_margins)])\n",
    "profit_margins = {k: v for k, v in sorted(profit_margins.items(), key=lambda item: item[1], reverse = True)}\n",
    "printDict(profit_margins)"
   ]
  },
  {
   "cell_type": "code",
   "execution_count": 13,
   "id": "a6acb75f",
   "metadata": {},
   "outputs": [],
   "source": [
    "# Define a function to compute the profit margin according to demand\n",
    "def profit_margin_fn(demand):\n",
    "    Orgs, Connections = create_network(N_tiers)\n",
    "    for x in Orgs:\n",
    "        x.purchase(demand)\n",
    "        x.operate(demand)\n",
    "        x.supply(demand)\n",
    "    profit_margins = [org.profit_margin for org in Orgs]\n",
    "    #return profit_margins[0] \n",
    "    return sum(profit_margins)/len(profit_margins)"
   ]
  },
  {
   "cell_type": "code",
   "execution_count": 14,
   "id": "608124d0",
   "metadata": {},
   "outputs": [
    {
     "data": {
      "text/plain": [
       "<tf.Tensor: shape=(), dtype=float32, numpy=-8.63528>"
      ]
     },
     "execution_count": 14,
     "metadata": {},
     "output_type": "execute_result"
    }
   ],
   "source": [
    "# Use Monte Carlo simulation to compute the expected profit margin\n",
    "N_tiers = 50 \n",
    "num_draws = 10000\n",
    "distn = tfd.Normal(loc=50.0, scale=5.0) # Demand is normally distributed\n",
    "demands = distn.sample(num_draws, seed=42)/100\n",
    "profit_margin_expectation = tfp.monte_carlo.expectation(\n",
    "    profit_margin_fn, samples=demands, log_prob=None, use_reparameterization=True,\n",
    "    use_reparametrization=True, axis=0, keepdims=False, keep_dims=False, name=None\n",
    ")\n",
    "\n",
    "# Print expected profit margin\n",
    "profit_margin_expectation"
   ]
  }
 ],
 "metadata": {
  "kernelspec": {
   "display_name": "Python 3.7.7 64-bit ('tf': conda)",
   "language": "python",
   "name": "python37764bittfconda08f0c17ca2ba44d18050ac627d0335c2"
  },
  "language_info": {
   "codemirror_mode": {
    "name": "ipython",
    "version": 3
   },
   "file_extension": ".py",
   "mimetype": "text/x-python",
   "name": "python",
   "nbconvert_exporter": "python",
   "pygments_lexer": "ipython3",
   "version": "3.7.10"
  }
 },
 "nbformat": 4,
 "nbformat_minor": 5
}
