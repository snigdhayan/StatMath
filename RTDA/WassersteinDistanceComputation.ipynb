{
 "cells": [
  {
   "cell_type": "code",
   "execution_count": 1,
   "metadata": {},
   "outputs": [
    {
     "name": "stderr",
     "output_type": "stream",
     "text": [
      "Warning message:\n",
      "\"package 'TDA' was built under R version 3.6.3\"Warning message:\n",
      "\"package 'TDAstats' was built under R version 3.6.3\""
     ]
    }
   ],
   "source": [
    "#install.packages(\"TDA\")\n",
    "#install.packages(\"TDAstats\")\n",
    "\n",
    "library(TDA)\n",
    "library(TDAstats)"
   ]
  },
  {
   "cell_type": "code",
   "execution_count": 2,
   "metadata": {},
   "outputs": [],
   "source": [
    "# read data\n",
    "setwd('/Users/ibatu/Documents/MyProgramsWindows/TopologicalDataAnalysis/RTDA/')\n",
    "data <- read.csv(file = 'breast_cancer_dataset.csv', header = TRUE)\n",
    "data <- data[names(data)!='label']"
   ]
  },
  {
   "cell_type": "code",
   "execution_count": 3,
   "metadata": {},
   "outputs": [],
   "source": [
    "# configuration parameters\n",
    "sample_size = 500 # select 500 data points or equivalently remove approx. 70 data points\n",
    "n_samples = 5\n",
    "wasserstein_exp = 1\n",
    "wasserstein_dim = 0"
   ]
  },
  {
   "cell_type": "code",
   "execution_count": 4,
   "metadata": {},
   "outputs": [],
   "source": [
    "# draw samples and compute persistent homologies\n",
    "my_list <- list()\n",
    "for (i in 1:n_samples) {\n",
    "  data_sample <- data[sample(nrow(data), sample_size , replace = FALSE), ]\n",
    "  my_list[[i]] <- calculate_homology(data_sample)\n",
    "}\n",
    "\n",
    "# compute wasserstein distances between persistent homologies of samples\n",
    "distance_matrix <- matrix(nrow = n_samples, ncol = n_samples)\n",
    "for (row in 1:nrow(distance_matrix)) {\n",
    "  for (col in row:ncol(distance_matrix)) {\n",
    "    distance_matrix[row,col] <- wasserstein(my_list[[row]],my_list[[col]], \n",
    "                                            p = wasserstein_exp, \n",
    "                                            dimension = wasserstein_dim)\n",
    "  }\n",
    "}"
   ]
  },
  {
   "cell_type": "code",
   "execution_count": 5,
   "metadata": {},
   "outputs": [
    {
     "data": {
      "text/html": [
       "<table>\n",
       "<tbody>\n",
       "\t<tr><td> 0       </td><td>1230.176 </td><td> 992.6056</td><td>1302.9488</td><td>1323.7468</td></tr>\n",
       "\t<tr><td>NA       </td><td>   0.000 </td><td>1080.7224</td><td> 661.1381</td><td> 610.9135</td></tr>\n",
       "\t<tr><td>NA       </td><td>      NA </td><td>   0.0000</td><td> 900.1587</td><td>1053.7032</td></tr>\n",
       "\t<tr><td>NA       </td><td>      NA </td><td>       NA</td><td>   0.0000</td><td> 361.9208</td></tr>\n",
       "\t<tr><td>NA       </td><td>      NA </td><td>       NA</td><td>       NA</td><td>   0.0000</td></tr>\n",
       "</tbody>\n",
       "</table>\n"
      ],
      "text/latex": [
       "\\begin{tabular}{lllll}\n",
       "\t  0        & 1230.176  &  992.6056 & 1302.9488 & 1323.7468\\\\\n",
       "\t NA        &    0.000  & 1080.7224 &  661.1381 &  610.9135\\\\\n",
       "\t NA        &       NA  &    0.0000 &  900.1587 & 1053.7032\\\\\n",
       "\t NA        &       NA  &        NA &    0.0000 &  361.9208\\\\\n",
       "\t NA        &       NA  &        NA &        NA &    0.0000\\\\\n",
       "\\end{tabular}\n"
      ],
      "text/markdown": [
       "\n",
       "|  0        | 1230.176  |  992.6056 | 1302.9488 | 1323.7468 |\n",
       "| NA        |    0.000  | 1080.7224 |  661.1381 |  610.9135 |\n",
       "| NA        |       NA  |    0.0000 |  900.1587 | 1053.7032 |\n",
       "| NA        |       NA  |        NA |    0.0000 |  361.9208 |\n",
       "| NA        |       NA  |        NA |        NA |    0.0000 |\n",
       "\n"
      ],
      "text/plain": [
       "     [,1] [,2]     [,3]      [,4]      [,5]     \n",
       "[1,]  0   1230.176  992.6056 1302.9488 1323.7468\n",
       "[2,] NA      0.000 1080.7224  661.1381  610.9135\n",
       "[3,] NA         NA    0.0000  900.1587 1053.7032\n",
       "[4,] NA         NA        NA    0.0000  361.9208\n",
       "[5,] NA         NA        NA        NA    0.0000"
      ]
     },
     "metadata": {},
     "output_type": "display_data"
    }
   ],
   "source": [
    "# print wasserstein distances as a matrix\n",
    "distance_matrix"
   ]
  }
 ],
 "metadata": {
  "kernelspec": {
   "display_name": "R",
   "language": "R",
   "name": "ir"
  },
  "language_info": {
   "codemirror_mode": "r",
   "file_extension": ".r",
   "mimetype": "text/x-r-source",
   "name": "R",
   "pygments_lexer": "r",
   "version": "3.6.1"
  }
 },
 "nbformat": 4,
 "nbformat_minor": 4
}
